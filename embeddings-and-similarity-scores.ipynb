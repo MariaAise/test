{
 "cells": [
  {
   "cell_type": "markdown",
   "id": "bf7aace4",
   "metadata": {},
   "source": [
    "# 📌 Embeddings & Similarity Score Demo\n",
    "**Objectives:**\n",
    "- Understand what sentence embeddings are and how they work\n",
    "- Use pre-trained HuggingFace `sentence-transformers`\n",
    "- Compute cosine similarity between sentence pairs\n",
    "- Visualize semantic similarity for interpretation\n",
    "\n",
    "📍 *Note: We use **sentence embeddings** (not token-level) because they are optimized for capturing overall meaning of a sentence — ideal for social science tasks like stance detection, interview analysis, and topic clustering.*"
   ]
  },
  {
   "cell_type": "code",
   "execution_count": null,
   "id": "6550d5f2",
   "metadata": {},
   "outputs": [],
   "source": [
    "# ✅ Setup\n",
    "!pip install -q sentence-transformers scikit-learn"
   ]
  },
  {
   "cell_type": "code",
   "execution_count": null,
   "id": "0e7e9be9",
   "metadata": {},
   "outputs": [],
   "source": [
    "# ✅ Imports\n",
    "from sentence_transformers import SentenceTransformer\n",
    "from sklearn.metrics.pairwise import cosine_similarity\n",
    "import numpy as np\n",
    "import pandas as pd"
   ]
  },
  {
   "cell_type": "code",
   "execution_count": null,
   "id": "2f157097",
   "metadata": {},
   "outputs": [],
   "source": [
    "# ✅ Load pre-trained embedding model\n",
    "model = SentenceTransformer('all-MiniLM-L6-v2')"
   ]
  },
  {
   "cell_type": "code",
   "execution_count": null,
   "id": "87cfefa8",
   "metadata": {},
   "outputs": [],
   "source": [
    "# ✏️ Define your sentences here\n",
    "sentences = [\n",
    "    \"The government passed a new education bill.\",\n",
    "    \"Parliament approved a law about education.\",\n",
    "    \"Cats are wonderful pets.\",\n",
    "    \"Dogs make great companions.\"\n",
    "]"
   ]
  },
  {
   "cell_type": "code",
   "execution_count": null,
   "id": "7603107f",
   "metadata": {},
   "outputs": [],
   "source": [
    "# ✅ Generate embeddings\n",
    "embeddings = model.encode(sentences)"
   ]
  },
  {
   "cell_type": "code",
   "execution_count": null,
   "id": "1a085257",
   "metadata": {},
   "outputs": [],
   "source": [
    "# ✅ Compute pairwise cosine similarity\n",
    "similarity_matrix = cosine_similarity(embeddings)\n",
    "pd.DataFrame(similarity_matrix, index=sentences, columns=sentences)"
   ]
  },
  {
   "cell_type": "code",
   "execution_count": null,
   "id": "28a635ec",
   "metadata": {},
   "outputs": [],
   "source": [
    "# 📊 Visualize the similarity matrix\n",
    "import seaborn as sns\n",
    "import matplotlib.pyplot as plt\n",
    "\n",
    "plt.figure(figsize=(8, 6))\n",
    "sns.heatmap(similarity_matrix, xticklabels=sentences, yticklabels=sentences, annot=True, cmap='coolwarm')\n",
    "plt.title('Cosine Similarity Between Sentences')\n",
    "plt.xticks(rotation=45, ha='right')\n",
    "plt.tight_layout()\n",
    "plt.show()"
   ]
  },
  {
   "cell_type": "markdown",
   "id": "e34def91",
   "metadata": {},
   "source": [
    "### 🧠 Interpretation:\n",
    "- Higher scores (~1.0) → similar meaning\n",
    "- Lower scores (~0.0 or negative) → dissimilar meaning\n",
    "- You can test political stance, sentiment, or paraphrase detection using this"
   ]
  },
  {
   "cell_type": "code",
   "execution_count": null,
   "id": "81e1f180",
   "metadata": {},
   "outputs": [],
   "source": [
    "# 🔁 Try your own!\n",
    "# Add more sentences or tweak them to see how similarity changes\n",
    "more_sentences = [\n",
    "    \"Healthcare reform was discussed in Parliament.\",\n",
    "    \"I love eating fresh mangoes.\"\n",
    "]\n",
    "more_embeddings = model.encode(more_sentences)\n",
    "more_similarity = cosine_similarity(more_embeddings, embeddings)\n",
    "pd.DataFrame(more_similarity, index=more_sentences, columns=sentences)"
   ]
  }
 ],
 "metadata": {
  "language_info": {
   "name": "python"
  }
 },
 "nbformat": 4,
 "nbformat_minor": 5
}
