{
 "cells": [
  {
   "cell_type": "markdown",
   "id": "41100697",
   "metadata": {},
   "source": [
    "# 📉 Semantic Drift Detector (Dual Method)\n",
    "\n",
    "This notebook performs semantic drift analysis using:\n",
    "\n",
    "1. **Quantitative** embeddings + cosine similarity + PCA (Hugging Face)\n",
    "2. **Qualitative** free-text interpretation (Google Gemini)\n",
    "\n",
    "---\n",
    "\n",
    "✅ Use cases:  \n",
    "- Discourse & media framing  \n",
    "- Survey and stakeholder alignment  \n",
    "- Narrative consistency in policy, brand, or messaging  \n",
    "- Cross-source or longitudinal sentiment shift  \n"
   ]
  },
  {
   "cell_type": "code",
   "execution_count": null,
   "id": "08b5435d",
   "metadata": {},
   "outputs": [],
   "source": [
    "# Optional: install required packages\n",
    "# !pip install sentence-transformers matplotlib scikit-learn pandas seaborn google-generativeai\n"
   ]
  },
  {
   "cell_type": "code",
   "execution_count": null,
   "id": "d8ddf284",
   "metadata": {},
   "outputs": [],
   "source": [
    "import pandas as pd\n",
    "import numpy as np\n",
    "import matplotlib.pyplot as plt\n",
    "import seaborn as sns\n",
    "from sklearn.decomposition import PCA\n",
    "from sklearn.metrics.pairwise import cosine_similarity\n",
    "from sentence_transformers import SentenceTransformer\n",
    "import google.generativeai as genai\n"
   ]
  },
  {
   "cell_type": "markdown",
   "id": "ff8ed6a0",
   "metadata": {},
   "source": [
    "## 📝 Step 1: Provide Input Sentences and Labels\n",
    "\n",
    "Each sentence should represent a statement from a different source, time, or group.  \n",
    "Label them by speaker, party, outlet, etc., to highlight potential **semantic shifts**.\n"
   ]
  },
  {
   "cell_type": "code",
   "execution_count": null,
   "id": "cc413bab",
   "metadata": {},
   "outputs": [],
   "source": [
    "# ✍️ Replace these with your own data\n",
    "sentences = [\n",
    "    \"The protest drew thousands of citizens.\",\n",
    "    \"The riot disrupted public order.\",\n",
    "    \"Demonstrators gathered peacefully.\",\n",
    "    \"Violent clashes erupted between police and protesters.\",\n",
    "    \"The rally was held in solidarity.\",\n",
    "    \"Crowds vandalized public property.\"\n",
    "]\n",
    "\n",
    "labels = [\"neutral\", \"negative\", \"neutral\", \"negative\", \"neutral\", \"negative\"]\n"
   ]
  },
  {
   "cell_type": "markdown",
   "id": "f90d85e1",
   "metadata": {},
   "source": [
    "## 🔍 Step 2: Generate Sentence Embeddings (Hugging Face)\n",
    "\n",
    "This encodes each sentence into a high-dimensional vector using `all-MiniLM-L6-v2`, capturing semantic meaning.\n",
    "\n",
    "These vectors let us **numerically measure similarity** between sentence meanings.\n"
   ]
  },
  {
   "cell_type": "code",
   "execution_count": null,
   "id": "88d31d5d",
   "metadata": {},
   "outputs": [],
   "source": [
    "model = SentenceTransformer(\"all-MiniLM-L6-v2\")\n",
    "embeddings = model.encode(sentences)\n"
   ]
  },
  {
   "cell_type": "markdown",
   "id": "9008bca6",
   "metadata": {},
   "source": [
    "## 📐 Step 3: Cosine Similarity Matrix\n",
    "\n",
    "We now calculate **pairwise similarity** between sentence vectors using cosine similarity.\n",
    "\n",
    "Scores range from:\n",
    "- `1.0` → identical direction (same meaning)\n",
    "- `0.0` → unrelated meaning\n",
    "- `<0` → opposite meaning (rare)\n"
   ]
  },
  {
   "cell_type": "code",
   "execution_count": null,
   "id": "cf351529",
   "metadata": {},
   "outputs": [],
   "source": [
    "sim_matrix = cosine_similarity(embeddings)\n",
    "sim_df = pd.DataFrame(sim_matrix, index=sentences, columns=sentences)\n",
    "sim_df.round(2)\n"
   ]
  },
  {
   "cell_type": "markdown",
   "id": "1ce44279",
   "metadata": {},
   "source": [
    "## 📊 Step 4: Visualize Semantic Drift with PCA\n",
    "\n",
    "We use **Principal Component Analysis** to reduce embedding vectors to 2D for plotting.\n",
    "\n",
    "This visualizes **how meaning drifts** based on position and grouping.\n"
   ]
  },
  {
   "cell_type": "code",
   "execution_count": null,
   "id": "b6babd14",
   "metadata": {},
   "outputs": [],
   "source": [
    "pca = PCA(n_components=2)\n",
    "reduced = pca.fit_transform(embeddings)\n",
    "\n",
    "plt.figure(figsize=(8, 6))\n",
    "if labels:\n",
    "    unique_labels = sorted(set(labels))\n",
    "    for lbl in unique_labels:\n",
    "        idx = [i for i, l in enumerate(labels) if l == lbl]\n",
    "        plt.scatter(reduced[idx, 0], reduced[idx, 1], label=lbl)\n",
    "    plt.legend()\n",
    "else:\n",
    "    plt.scatter(reduced[:, 0], reduced[:, 1])\n",
    "\n",
    "for i, text in enumerate(sentences):\n",
    "    plt.annotate(f\"{i+1}\", (reduced[i, 0], reduced[i, 1]), fontsize=9)\n",
    "\n",
    "plt.title(\"PCA Projection of Sentence Embeddings (Semantic Drift)\")\n",
    "plt.xlabel(\"PC 1\")\n",
    "plt.ylabel(\"PC 2\")\n",
    "plt.grid(True)\n",
    "plt.tight_layout()\n",
    "plt.show()\n"
   ]
  },
  {
   "cell_type": "markdown",
   "id": "17d79b3d",
   "metadata": {},
   "source": [
    "## 🤖 Step 5 (Optional): Gemini Meaning Comparison\n",
    "\n",
    "Ask Gemini to compare any two sentences and explain **how their meaning differs**.\n",
    "This supports **interpretability**, e.g. for clients or stakeholders.\n",
    "\n",
    "You’ll need a Gemini API key from Google Generative AI:\n",
    "https://makersuite.google.com/app/apikey\n"
   ]
  },
  {
   "cell_type": "code",
   "execution_count": null,
   "id": "09e9272f",
   "metadata": {},
   "outputs": [],
   "source": [
    "# Replace with your Gemini API key\n",
    "genai.configure(api_key=\"YOUR-API-KEY\")\n",
    "\n",
    "def gemini_compare_meaning(sent_a, sent_b):\n",
    "    prompt = f\"Compare the following statements:\n",
    "A: \"{sent_a}\"\n",
    "B: \"{sent_b}\"\n",
    "\n",
    "How do they differ in meaning, tone, or framing?\"\n",
    "    model = genai.GenerativeModel(\"gemini-pro\")\n",
    "    response = model.generate_content(prompt)\n",
    "    return response.text.strip()\n",
    "\n",
    "# Example: compare two sentences\n",
    "# gemini_compare_meaning(sentences[0], sentences[1])\n"
   ]
  },
  {
   "cell_type": "markdown",
   "id": "1472ea87",
   "metadata": {},
   "source": [
    "## 🎛️ Streamlit Dashboard Logic (Preview)\n",
    "\n",
    "To convert this into a dashboard, wrap PCA and comparison logic in a Streamlit app.\n"
   ]
  },
  {
   "cell_type": "code",
   "execution_count": null,
   "id": "72bf19fb",
   "metadata": {},
   "outputs": [],
   "source": [
    "# Streamlit layout sketch (not runnable here, but exportable)\n",
    "'''\n",
    "import streamlit as st\n",
    "\n",
    "st.title(\"Semantic Drift Detector\")\n",
    "\n",
    "sent1 = st.text_input(\"Sentence A\")\n",
    "sent2 = st.text_input(\"Sentence B\")\n",
    "\n",
    "if sent1 and sent2:\n",
    "    sim_score = hf_similarity(sent1, sent2)\n",
    "    gemini_out = gemini_compare_meaning(sent1, sent2)\n",
    "\n",
    "    st.write(\"Cosine Similarity:\", sim_score)\n",
    "    st.write(\"Gemini Interpretation:\", gemini_out)\n",
    "'''\n"
   ]
  },
  {
   "cell_type": "markdown",
   "id": "e34e9bbd",
   "metadata": {},
   "source": [
    "---\n",
    "\n",
    "## 🧠 Interpretation Guidelines\n",
    "\n",
    "- **Nearby points** in PCA → similar framing\n",
    "- **Far apart** = drift (especially within same label)\n",
    "- **Neutral vs Negative clusters** → tone divergence\n",
    "- Combine **HF score** + **Gemini text** for dual insights\n",
    "\n",
    "---\n",
    "\n",
    "## 💼 Use Cases\n",
    "\n",
    "| Domain | Example |\n",
    "|--------|---------|\n",
    "| Political Analysis | Party A vs Party B press releases |\n",
    "| Media Studies | Compare headlines on same event |\n",
    "| Product Feedback | Tone drift between cohorts |\n",
    "| HR/DEI | Survey framing differences by region |\n",
    "| Research QA | Detect rater drift across annotation rounds |\n"
   ]
  }
 ],
 "metadata": {
  "language_info": {
   "name": "python"
  }
 },
 "nbformat": 4,
 "nbformat_minor": 5
}
