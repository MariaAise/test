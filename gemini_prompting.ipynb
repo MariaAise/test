{
  "nbformat": 4,
  "nbformat_minor": 0,
  "metadata": {
    "colab": {
      "provenance": []
    },
    "kernelspec": {
      "name": "python3",
      "display_name": "Python 3"
    },
    "language_info": {
      "name": "python"
    }
  },
  "cells": [
    {
      "cell_type": "markdown",
      "source": [
        "# Prompting with Gemini\n",
        "Prompting with Gemini is a powerful technique for leveraging Google's multimodal LLMs to generate text, code, or structured outputs across diverse tasks. Whether you're classifying survey responses, drafting brand strategy briefs, or building interactive agents, effective prompting helps guide the model toward accurate, domain-aligned results. This tutorial walks you through zero-shot, one-shot, few-shot, and Chain-of-Thought prompting patterns tailored for high-impact use cases in business, research, and product workflows."
      ],
      "metadata": {
        "id": "pTf0gv6rAL0j"
      }
    },
    {
      "cell_type": "code",
      "execution_count": null,
      "metadata": {
        "id": "kVvmhUqB0t0n"
      },
      "outputs": [],
      "source": [
        "!pip install -q -U google-genai"
      ]
    },
    {
      "cell_type": "code",
      "source": [
        "from google.colab import userdata\n",
        "import google.generativeai as genai\n",
        "\n",
        "# Retrieve the API key from Secrets\n",
        "api_key = userdata.get('GEMINI_API_KEY')  # Name must match what you set!\n",
        "\n",
        "# Configure Gemini\n",
        "genai.configure(api_key=api_key)\n",
        "\n",
        "\n"
      ],
      "metadata": {
        "colab": {
          "base_uri": "https://localhost:8080/",
          "height": 176
        },
        "id": "AB3o1mXQ032B",
        "outputId": "36ded16b-d74a-4d98-c687-0eb6b1481c26"
      },
      "execution_count": 9,
      "outputs": [
        {
          "output_type": "stream",
          "name": "stdout",
          "text": [
            "The two sentences convey directly opposite meanings:\n",
            "\n",
            "*   **'The minister supported the bill.'** means the minister was in favor of the bill and likely took actions to help it pass (e.g., voted for it, spoke in favor of it, lobbied for it). It implies agreement with the bill's content or goals.\n",
            "\n",
            "*   **'The minister opposed the bill.'** means the minister was against the bill and likely took actions to prevent it from passing (e.g., voted against it, spoke out against it, lobbied against it). It implies disagreement with the bill's content or goals.\n",
            "\n",
            "In short, \"supported\" means for something, while \"opposed\" means against something. They are antonyms in this context.\n",
            "\n"
          ]
        }
      ]
    },
    {
      "cell_type": "code",
      "source": [
        "from google.genai import types\n",
        "\n",
        "from IPython.display import HTML, Markdown, display"
      ],
      "metadata": {
        "id": "YOs1eHkD1HF0"
      },
      "execution_count": 3,
      "outputs": []
    },
    {
      "cell_type": "markdown",
      "source": [
        "Set up a retry helper. This allows you to \"Run all\" without worrying about per-minute quota."
      ],
      "metadata": {
        "id": "zhu-tn3q1NCh"
      }
    },
    {
      "cell_type": "code",
      "source": [
        "from google.api_core import retry\n",
        "\n",
        "\n",
        "is_retriable = lambda e: (isinstance(e, genai.errors.APIError) and e.code in {429, 503})\n",
        "\n",
        "genai.models.Models.generate_content = retry.Retry(\n",
        "    predicate=is_retriable)(genai.models.Models.generate_content)"
      ],
      "metadata": {
        "id": "GdlUrI9209sD"
      },
      "execution_count": 4,
      "outputs": []
    },
    {
      "cell_type": "code",
      "source": [
        "# Example usage\n",
        "model = genai.GenerativeModel('gemini-2.0-flash')\n",
        "prompt = \"Compare the meaning of: 'The minister supported the bill.' and 'The minister opposed the bill.'\"\n",
        "response = model.generate_content(prompt)\n",
        "print(response.text)\n",
        "\n",
        "model = genai.GenerativeModel('gemini-2.0-flash')\n",
        "prompt = \"Explain the universe to me'\"\n",
        "response = model.generate_content(prompt)\n",
        "print(response.text)"
      ],
      "metadata": {
        "colab": {
          "base_uri": "https://localhost:8080/",
          "height": 1000
        },
        "id": "a43f29Zz1eMX",
        "outputId": "6ebf1344-2735-4ea9-cb6a-004fbc51a0f1"
      },
      "execution_count": 11,
      "outputs": [
        {
          "output_type": "stream",
          "name": "stdout",
          "text": [
            "The two sentences have directly opposite meanings:\n",
            "\n",
            "*   **'The minister supported the bill.'** This means the minister was **in favor of** the bill and likely took actions to help it pass into law. They agreed with the bill's principles and goals.\n",
            "\n",
            "*   **'The minister opposed the bill.'** This means the minister was **against** the bill and likely took actions to prevent it from passing into law. They disagreed with the bill's principles and goals.\n",
            "\n",
            "In short, 'supported' indicates agreement and advocacy, while 'opposed' indicates disagreement and resistance.\n",
            "\n",
            "Okay, buckle up! Explaining the universe is a HUGE undertaking, but I'll break it down into manageable chunks. Think of it like peeling an infinitely large onion.\n",
            "\n",
            "**1. What is the Universe?**\n",
            "\n",
            "*   **Everything, Everywhere, All at Once:** Simply put, the universe encompasses absolutely everything that exists – space, time, matter, energy, all the laws of physics that govern them, and even things we don't yet understand.\n",
            "\n",
            "*   **Mind-bogglingly Big:**  The observable universe (the part we can see) is estimated to be about 93 billion light-years in diameter.  A light-year is the distance light travels in one year, which is about 5.88 trillion miles.  The *actual* universe might be infinite in size. We just don't know!\n",
            "\n",
            "*   **Expanding:** The universe is constantly expanding, meaning that galaxies are moving further away from each other.  This expansion is accelerating, driven by a mysterious force called \"dark energy\" (more on that later).\n",
            "\n",
            "**2. The Big Bang: The Universe's Origin Story**\n",
            "\n",
            "*   **The Starting Point:**  The prevailing scientific theory is that the universe began about 13.8 billion years ago with the Big Bang.  This wasn't an explosion *in* space, but rather an expansion *of* space itself from an extremely hot, dense state.\n",
            "\n",
            "*   **From Singularity to Everything:**  Imagine all the matter and energy in the universe compressed into a point smaller than an atom. This \"singularity\" rapidly expanded and cooled, eventually forming the first subatomic particles, then atoms, then stars and galaxies.\n",
            "\n",
            "*   **Evidence:**  The Big Bang theory is supported by a lot of evidence:\n",
            "    *   **Cosmic Microwave Background (CMB):**  Faint afterglow of the Big Bang, detectable as microwave radiation.\n",
            "    *   **Redshift:** Light from distant galaxies is \"redshifted,\" meaning its wavelengths are stretched, indicating they are moving away from us (supporting the expanding universe).\n",
            "    *   **Abundance of Light Elements:** The observed amounts of hydrogen and helium in the universe match predictions based on the Big Bang.\n",
            "\n",
            "**3. What's in the Universe? The Cosmic Inventory**\n",
            "\n",
            "*   **Ordinary Matter (About 5%):** This is the stuff we're familiar with – atoms, stars, planets, gas, dust, you, me, everything we can see directly. It's made up of protons, neutrons, and electrons.\n",
            "\n",
            "*   **Dark Matter (About 27%):**  A mysterious substance that doesn't interact with light, so we can't see it directly. We know it's there because of its gravitational effects on galaxies and galaxy clusters. Without dark matter, galaxies wouldn't have enough gravity to hold themselves together.\n",
            "\n",
            "*   **Dark Energy (About 68%):**  An even more mysterious force that's driving the accelerated expansion of the universe.  We have almost no idea what it is, but it seems to be a property of space itself. As the universe expands, more dark energy appears.\n",
            "\n",
            "**4. Structures in the Universe: From Atoms to Superclusters**\n",
            "\n",
            "*   **Atoms:**  The basic building blocks of matter, made of protons, neutrons, and electrons.\n",
            "\n",
            "*   **Stars:**  Giant balls of hot gas (mostly hydrogen and helium) that generate energy through nuclear fusion.\n",
            "\n",
            "*   **Planets:**  Objects orbiting stars, ranging in size from small rocky bodies to giant gas planets.\n",
            "\n",
            "*   **Solar Systems:**  A star and all the objects that orbit it, including planets, moons, asteroids, and comets.\n",
            "\n",
            "*   **Galaxies:**  Huge collections of stars, gas, dust, and dark matter, held together by gravity. Galaxies come in different shapes, like spiral, elliptical, and irregular.\n",
            "\n",
            "*   **Galaxy Clusters:**  Groups of galaxies bound together by gravity.\n",
            "\n",
            "*   **Superclusters:**  The largest known structures in the universe, consisting of clusters of galaxy clusters.\n",
            "\n",
            "*   **Cosmic Voids:** Vast empty spaces between superclusters.\n",
            "\n",
            "**5. Key Concepts to Wrap Your Head Around**\n",
            "\n",
            "*   **Gravity:** The force that attracts objects with mass to each other.  It's what holds planets in orbit around stars and galaxies together.\n",
            "\n",
            "*   **Space-Time:**  The four-dimensional fabric of the universe, consisting of three spatial dimensions (length, width, height) and one time dimension. Gravity is described as a curvature of space-time caused by mass and energy.\n",
            "\n",
            "*   **Relativity (Einstein's Theories):**\n",
            "    *   **Special Relativity:** Describes the relationship between space and time for objects moving at constant speeds. A key consequence is that the speed of light is constant for all observers.\n",
            "    *   **General Relativity:** Describes gravity as a curvature of space-time caused by mass and energy.\n",
            "\n",
            "*   **Quantum Mechanics:** Describes the behavior of matter and energy at the atomic and subatomic levels.  It's very weird and probabilistic.\n",
            "\n",
            "**6. Open Questions and Mysteries**\n",
            "\n",
            "The universe is full of mysteries that scientists are still trying to solve:\n",
            "\n",
            "*   **What is dark matter?**\n",
            "*   **What is dark energy?**\n",
            "*   **What happened *before* the Big Bang?** (If that's even a meaningful question)\n",
            "*   **Is there life beyond Earth?**\n",
            "*   **What is the ultimate fate of the universe?** (Will it keep expanding forever, or will it collapse in a \"Big Crunch\"?)\n",
            "*   **How can we reconcile general relativity and quantum mechanics?**\n",
            "\n",
            "**In Summary**\n",
            "\n",
            "The universe is a vast, ancient, and constantly evolving place. It began with the Big Bang and is filled with galaxies, stars, planets, and a lot of stuff we don't yet understand (like dark matter and dark energy). Scientists are constantly making new discoveries and refining our understanding of the cosmos. It's a journey of endless wonder and exploration!\n",
            "\n",
            "**Where to go from here:**\n",
            "\n",
            "*   **Read books by popular science writers:** Carl Sagan, Neil deGrasse Tyson, Brian Greene, Lisa Randall.\n",
            "*   **Watch documentaries:** \"Cosmos,\" \"Through the Wormhole,\" \"Nova.\"\n",
            "*   **Explore online resources:** NASA, ESA, Hubble Space Telescope website, Wikipedia (with caution!).\n",
            "*   **Take a class or attend a lecture at a local university or science museum.**\n",
            "\n",
            "Don't be afraid to ask questions and keep learning! The universe is a fascinating subject, and there's always more to discover.  Good luck on your cosmic journey!\n",
            "\n"
          ]
        }
      ]
    },
    {
      "cell_type": "code",
      "source": [
        "Markdown(response.text)"
      ],
      "metadata": {
        "colab": {
          "base_uri": "https://localhost:8080/",
          "height": 1000
        },
        "id": "IguzqBUE1o3o",
        "outputId": "f56b2440-2371-4613-bff5-51d010a4c110"
      },
      "execution_count": 12,
      "outputs": [
        {
          "output_type": "execute_result",
          "data": {
            "text/plain": [
              "<IPython.core.display.Markdown object>"
            ],
            "text/markdown": "Okay, buckle up! Explaining the universe is a HUGE undertaking, but I'll break it down into manageable chunks. Think of it like peeling an infinitely large onion.\n\n**1. What is the Universe?**\n\n*   **Everything, Everywhere, All at Once:** Simply put, the universe encompasses absolutely everything that exists – space, time, matter, energy, all the laws of physics that govern them, and even things we don't yet understand.\n\n*   **Mind-bogglingly Big:**  The observable universe (the part we can see) is estimated to be about 93 billion light-years in diameter.  A light-year is the distance light travels in one year, which is about 5.88 trillion miles.  The *actual* universe might be infinite in size. We just don't know!\n\n*   **Expanding:** The universe is constantly expanding, meaning that galaxies are moving further away from each other.  This expansion is accelerating, driven by a mysterious force called \"dark energy\" (more on that later).\n\n**2. The Big Bang: The Universe's Origin Story**\n\n*   **The Starting Point:**  The prevailing scientific theory is that the universe began about 13.8 billion years ago with the Big Bang.  This wasn't an explosion *in* space, but rather an expansion *of* space itself from an extremely hot, dense state.\n\n*   **From Singularity to Everything:**  Imagine all the matter and energy in the universe compressed into a point smaller than an atom. This \"singularity\" rapidly expanded and cooled, eventually forming the first subatomic particles, then atoms, then stars and galaxies.\n\n*   **Evidence:**  The Big Bang theory is supported by a lot of evidence:\n    *   **Cosmic Microwave Background (CMB):**  Faint afterglow of the Big Bang, detectable as microwave radiation.\n    *   **Redshift:** Light from distant galaxies is \"redshifted,\" meaning its wavelengths are stretched, indicating they are moving away from us (supporting the expanding universe).\n    *   **Abundance of Light Elements:** The observed amounts of hydrogen and helium in the universe match predictions based on the Big Bang.\n\n**3. What's in the Universe? The Cosmic Inventory**\n\n*   **Ordinary Matter (About 5%):** This is the stuff we're familiar with – atoms, stars, planets, gas, dust, you, me, everything we can see directly. It's made up of protons, neutrons, and electrons.\n\n*   **Dark Matter (About 27%):**  A mysterious substance that doesn't interact with light, so we can't see it directly. We know it's there because of its gravitational effects on galaxies and galaxy clusters. Without dark matter, galaxies wouldn't have enough gravity to hold themselves together.\n\n*   **Dark Energy (About 68%):**  An even more mysterious force that's driving the accelerated expansion of the universe.  We have almost no idea what it is, but it seems to be a property of space itself. As the universe expands, more dark energy appears.\n\n**4. Structures in the Universe: From Atoms to Superclusters**\n\n*   **Atoms:**  The basic building blocks of matter, made of protons, neutrons, and electrons.\n\n*   **Stars:**  Giant balls of hot gas (mostly hydrogen and helium) that generate energy through nuclear fusion.\n\n*   **Planets:**  Objects orbiting stars, ranging in size from small rocky bodies to giant gas planets.\n\n*   **Solar Systems:**  A star and all the objects that orbit it, including planets, moons, asteroids, and comets.\n\n*   **Galaxies:**  Huge collections of stars, gas, dust, and dark matter, held together by gravity. Galaxies come in different shapes, like spiral, elliptical, and irregular.\n\n*   **Galaxy Clusters:**  Groups of galaxies bound together by gravity.\n\n*   **Superclusters:**  The largest known structures in the universe, consisting of clusters of galaxy clusters.\n\n*   **Cosmic Voids:** Vast empty spaces between superclusters.\n\n**5. Key Concepts to Wrap Your Head Around**\n\n*   **Gravity:** The force that attracts objects with mass to each other.  It's what holds planets in orbit around stars and galaxies together.\n\n*   **Space-Time:**  The four-dimensional fabric of the universe, consisting of three spatial dimensions (length, width, height) and one time dimension. Gravity is described as a curvature of space-time caused by mass and energy.\n\n*   **Relativity (Einstein's Theories):**\n    *   **Special Relativity:** Describes the relationship between space and time for objects moving at constant speeds. A key consequence is that the speed of light is constant for all observers.\n    *   **General Relativity:** Describes gravity as a curvature of space-time caused by mass and energy.\n\n*   **Quantum Mechanics:** Describes the behavior of matter and energy at the atomic and subatomic levels.  It's very weird and probabilistic.\n\n**6. Open Questions and Mysteries**\n\nThe universe is full of mysteries that scientists are still trying to solve:\n\n*   **What is dark matter?**\n*   **What is dark energy?**\n*   **What happened *before* the Big Bang?** (If that's even a meaningful question)\n*   **Is there life beyond Earth?**\n*   **What is the ultimate fate of the universe?** (Will it keep expanding forever, or will it collapse in a \"Big Crunch\"?)\n*   **How can we reconcile general relativity and quantum mechanics?**\n\n**In Summary**\n\nThe universe is a vast, ancient, and constantly evolving place. It began with the Big Bang and is filled with galaxies, stars, planets, and a lot of stuff we don't yet understand (like dark matter and dark energy). Scientists are constantly making new discoveries and refining our understanding of the cosmos. It's a journey of endless wonder and exploration!\n\n**Where to go from here:**\n\n*   **Read books by popular science writers:** Carl Sagan, Neil deGrasse Tyson, Brian Greene, Lisa Randall.\n*   **Watch documentaries:** \"Cosmos,\" \"Through the Wormhole,\" \"Nova.\"\n*   **Explore online resources:** NASA, ESA, Hubble Space Telescope website, Wikipedia (with caution!).\n*   **Take a class or attend a lecture at a local university or science museum.**\n\nDon't be afraid to ask questions and keep learning! The universe is a fascinating subject, and there's always more to discover.  Good luck on your cosmic journey!\n"
          },
          "metadata": {},
          "execution_count": 12
        }
      ]
    },
    {
      "cell_type": "markdown",
      "source": [
        "## Start a chat¶\n",
        "The previous example uses a single-turn, text-in/text-out structure, but you can also set up a multi-turn chat structure too."
      ],
      "metadata": {
        "id": "Ee42Qb_F26OJ"
      }
    },
    {
      "cell_type": "markdown",
      "source": [
        "NOTE THE DIFFERENCE IN LIBRARY USE\n",
        "\n",
        "**from google import genai** vs **import google.generativeai as genai**"
      ],
      "metadata": {
        "id": "T6odUCu83tIt"
      }
    },
    {
      "cell_type": "code",
      "source": [
        "from google import genai\n",
        "\n",
        "client = genai.Client(api_key=api_key)\n",
        "\n",
        "response = client.models.generate_content(\n",
        "    model=\"gemini-2.0-flash\",\n",
        "    contents=\"Explain the universe to me.\")\n",
        "\n",
        "print(response.text)"
      ],
      "metadata": {
        "colab": {
          "base_uri": "https://localhost:8080/"
        },
        "id": "dWJUaOpC3Sr4",
        "outputId": "4c80f240-527e-4264-fa41-eca8b223d9c9"
      },
      "execution_count": 16,
      "outputs": [
        {
          "output_type": "stream",
          "name": "stdout",
          "text": [
            "Okay, buckle up! Explaining the entire universe is a HUGE task, but let's break it down into manageable chunks.\n",
            "\n",
            "**1. What IS the Universe?**\n",
            "\n",
            "Simply put, the universe is everything that exists:\n",
            "\n",
            "*   **Space:** The vast emptiness that contains everything.\n",
            "*   **Time:** The dimension in which events happen in a sequence.\n",
            "*   **Matter:** Anything that has mass and takes up space (like you, me, planets, stars).\n",
            "*   **Energy:**  The capacity to do work (like light, heat, kinetic energy).\n",
            "\n",
            "Basically, it's all the stuff and all the room it's in, and the passage of time itself.\n",
            "\n",
            "**2. How Big Is It?**\n",
            "\n",
            "This is where things get mind-boggling. We can only observe what we call the \"observable universe.\" This is the portion of the universe from which light has had time to reach us since the Big Bang (about 13.8 billion years ago).\n",
            "\n",
            "*   The observable universe is estimated to be about **93 billion light-years in diameter.** A light-year is the distance light travels in one year.\n",
            "*   Beyond the observable universe, we simply don't know. The universe could be much, much larger, even infinite.  It's like being in a boat in the middle of the ocean – you can only see to the horizon.\n",
            "\n",
            "**3. How Did It Start? (The Big Bang)**\n",
            "\n",
            "The prevailing theory for the universe's origin is the Big Bang. Here's a simplified version:\n",
            "\n",
            "*   **13.8 Billion Years Ago:** The universe was an incredibly hot, dense point.  All the matter and energy were compressed into an infinitely small space (a singularity).\n",
            "*   **The Big Bang:**  For reasons we don't fully understand, this point began to expand rapidly. This wasn't an explosion *into* space, but rather an expansion *of* space itself.\n",
            "*   **Cooling and Formation:** As the universe expanded, it cooled down. This allowed energy to convert into matter (primarily hydrogen and helium).  Gravity began to pull this matter together.\n",
            "*   **Stars and Galaxies:**  Over millions of years, gravity caused clouds of hydrogen and helium to collapse, forming the first stars. These stars clumped together to form galaxies.\n",
            "*   **Continued Expansion:** The universe is still expanding today, and the rate of expansion is actually accelerating.\n",
            "\n",
            "**4. What's In It? (Key Components)**\n",
            "\n",
            "*   **Galaxies:**  Giant collections of stars, gas, dust, and dark matter, held together by gravity.  Our galaxy is called the Milky Way. Galaxies come in different shapes: spiral, elliptical, irregular.\n",
            "*   **Stars:**  Massive, luminous spheres of plasma held together by their own gravity. Stars produce energy through nuclear fusion (converting hydrogen into helium). They eventually die in various ways, such as becoming white dwarfs, neutron stars, or black holes.\n",
            "*   **Planets:**  Celestial bodies that orbit stars. They don't produce their own light but reflect the light of their star.\n",
            "*   **Moons:** Natural satellites that orbit planets.\n",
            "*   **Asteroids, Comets, and Meteors:**  Rocky or icy bodies that orbit the Sun.\n",
            "*   **Nebulae:**  Giant clouds of gas and dust in space. They're often stellar nurseries where new stars are born.\n",
            "*   **Black Holes:**  Regions of spacetime with such strong gravity that nothing, not even light, can escape. They are formed by the collapse of massive stars.\n",
            "*   **Dark Matter:**  A mysterious substance that makes up about 85% of the matter in the universe. We can't see it directly, but we know it's there because of its gravitational effects.\n",
            "*   **Dark Energy:**  An even more mysterious force that's causing the expansion of the universe to accelerate.  It makes up about 68% of the total energy density of the universe.\n",
            "\n",
            "**5. What Are the Laws That Govern It?**\n",
            "\n",
            "The universe is governed by fundamental laws of physics, including:\n",
            "\n",
            "*   **Gravity:** The force of attraction between objects with mass.  It's responsible for the formation of stars, galaxies, and planetary systems. (Described by Einstein's General Relativity on large scales, and Newton's Law of Universal Gravitation at everyday scales).\n",
            "*   **Electromagnetism:**  The force that governs the interaction of charged particles. It's responsible for light, electricity, and magnetism.\n",
            "*   **The Strong Nuclear Force:**  The force that holds the nucleus of atoms together.\n",
            "*   **The Weak Nuclear Force:**  The force responsible for radioactive decay.\n",
            "*   **Thermodynamics:** Laws governing heat, energy, and entropy.\n",
            "\n",
            "**6. What's Going to Happen to It? (The Fate of the Universe)**\n",
            "\n",
            "The ultimate fate of the universe is still uncertain, but the prevailing theories include:\n",
            "\n",
            "*   **The Big Rip:**  Dark energy continues to accelerate the expansion of the universe, eventually tearing apart galaxies, stars, planets, and even atoms.\n",
            "*   **The Big Freeze (Heat Death):** The universe continues to expand and cool, eventually running out of usable energy.  Stars will burn out, and everything will gradually approach a state of maximum entropy.\n",
            "*   **The Big Crunch:**  The expansion of the universe slows down and eventually reverses, causing the universe to collapse back into a singularity.  This is less favored due to the observed acceleration of the universe's expansion.\n",
            "\n",
            "**7. What We Still Don't Know:**\n",
            "\n",
            "There are many mysteries about the universe that scientists are still trying to solve:\n",
            "\n",
            "*   **What is dark matter and dark energy?**\n",
            "*   **What happened *before* the Big Bang?**\n",
            "*   **What caused the Big Bang?**\n",
            "*   **Is there life beyond Earth?**\n",
            "*   **What is the ultimate fate of the universe?**\n",
            "*   **How can we reconcile General Relativity with Quantum Mechanics?** (This is a big one – it would give us a \"theory of everything\").\n",
            "\n",
            "**In a nutshell:**\n",
            "\n",
            "The universe is vast, ancient, and mysterious. It began with the Big Bang and has been expanding and evolving ever since. It contains galaxies, stars, planets, and all sorts of exotic phenomena. While we've learned a lot, there's still much we don't know.  It's a fascinating subject that continues to drive scientific exploration.\n",
            "\n",
            "**Key Takeaways:**\n",
            "\n",
            "*   It's REALLY big and old.\n",
            "*   We understand some of it very well, but much of it remains mysterious.\n",
            "*   The universe is constantly changing.\n",
            "*   Humanity's understanding of the universe is constantly evolving.\n",
            "\n",
            "I hope this helps!  Let me know if you have any specific questions or want to explore a particular aspect in more detail.  It's a lot to take in!\n",
            "\n"
          ]
        }
      ]
    },
    {
      "cell_type": "code",
      "source": [
        "chat = client.chats.create(model='gemini-2.0-flash', history=[])\n",
        "response = chat.send_message('My name is Maria and I am a brand strategist. Can you identify key measures for business performance in a tech industry')\n",
        "print(response.text)"
      ],
      "metadata": {
        "colab": {
          "base_uri": "https://localhost:8080/"
        },
        "id": "zJaBuN4s2zJ6",
        "outputId": "c68f7f03-344a-4130-e736-519be9edce25"
      },
      "execution_count": 18,
      "outputs": [
        {
          "output_type": "stream",
          "name": "stdout",
          "text": [
            "Okay, Maria! As a brand strategist, you'll be interested in how these key measures are influenced by brand perception and reputation. Here are some key measures for business performance in the tech industry, categorized for clarity:\n",
            "\n",
            "**I. Financial Performance:**\n",
            "\n",
            "*   **Revenue Growth:**\n",
            "    *   **Overall Revenue Growth Rate:** Tracks the percentage increase in total revenue over a period (e.g., YoY, QoQ). Essential for demonstrating market traction and business health.\n",
            "    *   **Revenue per Customer (ARPU/ACPU):**  Average revenue generated from each customer.  Important for understanding pricing effectiveness and identifying opportunities to upsell or cross-sell.  In SaaS, this could be called ARR (Annual Recurring Revenue) per customer.\n",
            "    *   **Recurring Revenue (ARR/MRR):**  (Especially for SaaS and subscription-based models) Measures predictable revenue streams.  High ARR/MRR provides stability and predictability.\n",
            "    *   **Product Revenue Mix:**  Understanding which products or services are driving the most revenue.  Helps with resource allocation and product strategy.\n",
            "*   **Profitability:**\n",
            "    *   **Gross Profit Margin:**  Revenue less cost of goods sold (COGS), expressed as a percentage of revenue. Indicates the efficiency of production and pricing strategy.\n",
            "    *   **Operating Profit Margin:**  Operating income (earnings before interest and taxes) divided by revenue.  Reflects the profitability of core business operations.\n",
            "    *   **Net Profit Margin:**  Net income (after all expenses and taxes) divided by revenue.  Overall profitability of the business.\n",
            "*   **Cash Flow:**\n",
            "    *   **Operating Cash Flow:**  Cash generated from normal business operations.  Indicates the company's ability to fund its activities.\n",
            "    *   **Free Cash Flow:**  Cash flow available to the company after covering capital expenditures (CapEx).  Important for investors and for funding growth initiatives.\n",
            "*   **Valuation Metrics:**\n",
            "    *   **Market Capitalization:**  Total value of outstanding shares (for publicly traded companies).\n",
            "    *   **Price-to-Earnings (P/E) Ratio:**  Share price divided by earnings per share.  Used to assess valuation relative to earnings.\n",
            "    *   **EV/EBITDA:**  Enterprise Value divided by Earnings Before Interest, Taxes, Depreciation, and Amortization.  Another valuation metric, often used to compare companies with different capital structures.\n",
            "\n",
            "**II. Customer-Related Metrics:**\n",
            "\n",
            "*   **Customer Acquisition Cost (CAC):**\n",
            "    *   Total cost of acquiring a new customer (marketing, sales) divided by the number of new customers acquired.  Indicates the efficiency of customer acquisition efforts.\n",
            "*   **Customer Lifetime Value (CLTV or LTV):**\n",
            "    *   Prediction of the net profit attributed to the entire future relationship with a customer.  Helps justify acquisition costs and prioritize customer retention.\n",
            "*   **Churn Rate:**\n",
            "    *   Percentage of customers who discontinue their subscription or stop using the product/service within a given period.  High churn is a major red flag.  Also could be called Customer Attrition Rate.\n",
            "*   **Customer Satisfaction (CSAT):**\n",
            "    *   Measures customer satisfaction with a specific product, service, or interaction.  Often measured through surveys (e.g., asking \"How satisfied are you with...\").\n",
            "*   **Net Promoter Score (NPS):**\n",
            "    *   Measures customer loyalty and willingness to recommend the product/service to others.  Customers are asked \"How likely are you to recommend...?\" and categorized as Promoters, Passives, or Detractors.\n",
            "*   **Customer Retention Rate:** The percentage of customers a company retains over a specific period.\n",
            "\n",
            "**III. Product & Innovation Metrics:**\n",
            "\n",
            "*   **Time to Market:**\n",
            "    *   Speed at which new products or features are launched.  Critical in the fast-paced tech industry.\n",
            "*   **Innovation Rate:**\n",
            "    *   Number of new products, features, or patents developed within a given period.  Indicates the company's commitment to innovation.\n",
            "*   **Product Adoption Rate:**\n",
            "    *   How quickly new users or customers adopt a new product or feature.\n",
            "*   **Bug Count/Defect Density:**\n",
            "    *   Number of bugs or defects found in software or hardware.  Impacts user experience and can damage brand reputation.\n",
            "*   **Uptime/Availability:**\n",
            "    *   Percentage of time that a service or system is operational and available to users.  Crucial for cloud services and other always-on applications.\n",
            "\n",
            "**IV. Operational Efficiency Metrics:**\n",
            "\n",
            "*   **Employee Productivity:**\n",
            "    *   Output per employee.  Can be difficult to measure in some tech roles, but can be assessed through project completion rates, code commits, etc.\n",
            "*   **Burn Rate (for startups):**\n",
            "    *   Rate at which a company is spending its cash reserves.  Important for managing runway and ensuring sufficient funding.\n",
            "*   **Cost of Goods Sold (COGS):**\n",
            "    *   Direct costs associated with producing goods or services.  Reducing COGS improves profitability.\n",
            "*   **Operating Expenses (OpEx):**\n",
            "    *   Expenses incurred in running the business (e.g., marketing, sales, R&D).  Managing OpEx is crucial for profitability.\n",
            "*   **Server Costs/Cloud Computing Costs:**\n",
            "    *   Tracking and optimizing infrastructure costs is critical, especially for cloud-based businesses.\n",
            "*   **Lead Generation Costs:** The total cost associated with attracting and converting leads.\n",
            "\n",
            "**V.  Brand & Marketing Metrics (Important for You!):**\n",
            "\n",
            "*   **Brand Awareness:**\n",
            "    *   The extent to which consumers are familiar with the brand.  Measured through surveys, social media mentions, website traffic, etc.\n",
            "*   **Brand Sentiment:**\n",
            "    *   The overall feeling or attitude that consumers have towards the brand.  Measured through social listening, sentiment analysis of online reviews, etc.\n",
            "*   **Website Traffic & Engagement:**\n",
            "    *   Number of visitors, page views, bounce rate, time on site.  Indicates the effectiveness of online marketing efforts and the quality of the website experience.\n",
            "*   **Social Media Engagement:**\n",
            "    *   Likes, shares, comments, follows.  Measures the effectiveness of social media marketing and the level of audience engagement.\n",
            "*   **Marketing ROI:**\n",
            "    *   Return on investment for marketing campaigns.  Measures the profitability of marketing efforts.\n",
            "*   **Share of Voice (SOV):**\n",
            "    *   The brand's percentage of the total online conversation related to the industry or category.  Indicates brand visibility and influence.\n",
            "*   **Brand Equity:** The commercial value of a brand derived from consumer perception of the brand name of a particular product or service, rather than from the product or service itself.\n",
            "*   **Conversion Rate:** The percentage of users who take a desired action, such as making a purchase or signing up for a newsletter.\n",
            "*   **Click-Through Rate (CTR):** The percentage of users who click on a specific link or advertisement.\n",
            "\n",
            "**VI. Employee-Related Metrics**\n",
            "\n",
            "*   **Employee Satisfaction:** Measures how content employees are with their job\n",
            "*   **Employee Retention:** The percentage of employees that remain at a company over a specific period.\n",
            "*   **Absenteeism:** Measures the total days employees are absent.\n",
            "*   **Employee Turnover Rate:**  The rate at which employees leave a company.\n",
            "\n",
            "**Key Considerations for the Tech Industry:**\n",
            "\n",
            "*   **Agility & Speed:** The tech industry moves quickly, so metrics need to be tracked in real-time and acted upon swiftly.\n",
            "*   **Innovation Focus:** Metrics should encourage and reward innovation.\n",
            "*   **Data-Driven Culture:** Make sure the company has a strong data-driven culture where decisions are based on data analysis.\n",
            "*   **Scalability:** Metrics should be scalable to accommodate rapid growth.\n",
            "*   **Security:** Measures of cybersecurity performance should be at the top of the list due to frequent attacks.\n",
            "*   **Talent Acquisition:** With the war for talent, measures of successful hiring and onboarding should be a focus.\n",
            "\n",
            "**As a brand strategist, your role is to connect these business performance metrics to the brand. Consider:**\n",
            "\n",
            "*   **How does brand perception impact customer acquisition cost?**  A stronger brand can reduce CAC.\n",
            "*   **How does brand loyalty affect customer lifetime value and churn?**  A strong brand fosters loyalty, increasing CLTV and reducing churn.\n",
            "*   **How does brand reputation influence the adoption of new products?**  A trusted brand can lead to faster adoption rates.\n",
            "*   **How does brand messaging drive revenue growth and profitability?**  Effective messaging can attract new customers and increase sales.\n",
            "*   **How does a clear, strong brand influence employee retention and attraction of top talent?**\n",
            "\n",
            "By linking brand strategy to these key business performance metrics, you can demonstrate the value of your work and help tech companies achieve their goals. Good luck, Maria!\n",
            "\n"
          ]
        }
      ]
    },
    {
      "cell_type": "code",
      "source": [
        "response = chat.send_message('What are major triggers of shopping behaviour?')\n",
        "print(response.text)"
      ],
      "metadata": {
        "colab": {
          "base_uri": "https://localhost:8080/"
        },
        "id": "o0Bn_O2M3Mm0",
        "outputId": "e93f5644-dd46-48b1-981e-c427340a0f2e"
      },
      "execution_count": 21,
      "outputs": [
        {
          "output_type": "stream",
          "name": "stdout",
          "text": [
            "Okay, Maria, here's a breakdown of major triggers of shopping behavior, categorized for clarity:\n",
            "\n",
            "**I. Psychological Triggers:**\n",
            "\n",
            "*   **Need/Desire Fulfillment:** This is the most fundamental trigger. People shop to fulfill a need (e.g., food, clothing, shelter) or to satisfy a desire (e.g., entertainment, status, self-expression).\n",
            "\n",
            "    *   **Maslow's Hierarchy of Needs:** Understanding where a product fits within Maslow's hierarchy can be a powerful trigger. Is it safety and security (home security system)? Is it belongingness and love (social club membership)? Is it self-esteem (luxury car)?\n",
            "*   **Emotional State:** Emotions play a huge role.\n",
            "    *   **Happiness:** Rewarding themselves with a treat or special purchase.\n",
            "    *   **Sadness/Boredom:** \"Retail therapy\" can be a way to cope with negative emotions or alleviate boredom.\n",
            "    *   **Stress:** Stress can lead to impulsive purchases as a way to feel in control or to escape.\n",
            "    *   **Excitement:** The anticipation of an event (e.g., a vacation, a party) can trigger related purchases.\n",
            "*   **Social Influence/Conformity:**\n",
            "    *   **Peer Pressure:** Wanting to fit in with a group or emulate someone admired.\n",
            "    *   **Social Norms:** Following trends and buying what's considered \"in.\"\n",
            "    *   **Word-of-Mouth:** Recommendations from friends, family, or influencers.\n",
            "*   **Cognitive Biases:** Mental shortcuts that influence decision-making.\n",
            "    *   **Scarcity Effect:** The perception that something is limited (e.g., \"only 3 left!\") makes it more desirable.\n",
            "    *   **Loss Aversion:** People are more motivated to avoid losing something than to gain something of equal value. (e.g., \"Don't miss out!\")\n",
            "    *   **Anchoring Bias:** The first piece of information received (e.g., the original price) influences perception of subsequent information (e.g., the sale price).\n",
            "    *   **Bandwagon Effect:** People are more likely to buy something if they see others buying it.\n",
            "\n",
            "**II. Marketing & Environmental Triggers:**\n",
            "\n",
            "*   **Advertising & Promotions:**\n",
            "    *   **Sales & Discounts:** Limited-time offers, clearance sales, and promotions are classic triggers.\n",
            "    *   **Coupons & Loyalty Programs:** Incentivizing purchases through rewards and discounts.\n",
            "    *   **Targeted Advertising:** Showing relevant ads to people based on their interests and browsing history.\n",
            "*   **Visual Merchandising:**\n",
            "    *   **Attractive Product Displays:** Well-organized and appealing displays in stores or online.\n",
            "    *   **Eye-Catching Packaging:** Packaging that stands out and communicates value.\n",
            "    *   **Sensory Marketing:** Using scents, sounds, and textures to create a pleasant shopping experience.\n",
            "*   **Context & Environment:**\n",
            "    *   **Time of Year/Holidays:** Seasonal events and holidays trigger specific shopping patterns (e.g., Christmas, back-to-school).\n",
            "    *   **Weather:** Warm weather might trigger purchases of summer clothing, while cold weather might trigger purchases of winter gear.\n",
            "    *   **Location:** Being in a particular place (e.g., a shopping mall, a tourist destination) can trigger impulse purchases.\n",
            "*   **Convenience & Accessibility:**\n",
            "    *   **Easy Checkout Process:** Streamlined online and in-store checkout experiences.\n",
            "    *   **Free Shipping & Returns:** Reducing barriers to purchase.\n",
            "    *   **Mobile Shopping:** Enabling purchases on smartphones and tablets.\n",
            "\n",
            "**III. Economic & Financial Triggers:**\n",
            "\n",
            "*   **Income & Purchasing Power:** Higher income levels generally lead to increased spending.\n",
            "*   **Economic Conditions:** Economic growth and consumer confidence boost spending.\n",
            "*   **Credit Availability:** Access to credit cards and loans can encourage purchases.\n",
            "*   **Financial Incentives:** Tax breaks, rebates, and other financial incentives can trigger purchases (e.g., energy-efficient appliances).\n",
            "\n",
            "**IV. Technological Triggers:**\n",
            "\n",
            "*   **Personalized Recommendations:** AI-powered recommendations based on past purchases and browsing history.\n",
            "*   **Augmented Reality (AR) & Virtual Reality (VR):** Allowing customers to \"try on\" products virtually before buying.\n",
            "*   **Chatbots & Customer Service:** Providing instant assistance and answering questions, leading to increased sales.\n",
            "*   **Social Commerce:** Buying products directly through social media platforms.\n",
            "\n",
            "**As a brand strategist, it's important to understand these triggers to:**\n",
            "\n",
            "*   **Craft compelling marketing messages:** Tailor messaging to resonate with specific needs, desires, and emotions.\n",
            "*   **Design effective promotions and loyalty programs:** Incentivize purchases in a way that appeals to the target audience.\n",
            "*   **Optimize the customer journey:** Make it as easy and enjoyable as possible for customers to find and buy products.\n",
            "*   **Leverage cognitive biases:** Ethically use cognitive biases to influence purchasing decisions.\n",
            "*   **Create a strong brand identity:** Build a brand that resonates with the target audience's values and aspirations.\n",
            "\n",
            "By understanding and strategically using these triggers, you can significantly impact shopping behavior and drive sales for your clients.\n",
            "\n"
          ]
        }
      ]
    },
    {
      "cell_type": "code",
      "source": [
        "response = chat.send_message('Do you remember what my name is?')\n",
        "print(response.text)"
      ],
      "metadata": {
        "colab": {
          "base_uri": "https://localhost:8080/"
        },
        "id": "YLjg0fkV4wPN",
        "outputId": "83873b03-21f8-4ce0-87ce-a7be5e8b0af2"
      },
      "execution_count": 22,
      "outputs": [
        {
          "output_type": "stream",
          "name": "stdout",
          "text": [
            "Yes, Maria, I remember you mentioned your name is Maria.\n",
            "\n"
          ]
        }
      ]
    },
    {
      "cell_type": "code",
      "source": [
        "for model in client.models.list():\n",
        "  print(model.name)"
      ],
      "metadata": {
        "colab": {
          "base_uri": "https://localhost:8080/"
        },
        "id": "uxbsLfmf4ySw",
        "outputId": "ecade856-74e6-49ab-ea5e-948f474674b3"
      },
      "execution_count": 23,
      "outputs": [
        {
          "output_type": "stream",
          "name": "stdout",
          "text": [
            "models/embedding-gecko-001\n",
            "models/gemini-1.0-pro-vision-latest\n",
            "models/gemini-pro-vision\n",
            "models/gemini-1.5-pro-latest\n",
            "models/gemini-1.5-pro-002\n",
            "models/gemini-1.5-pro\n",
            "models/gemini-1.5-flash-latest\n",
            "models/gemini-1.5-flash\n",
            "models/gemini-1.5-flash-002\n",
            "models/gemini-1.5-flash-8b\n",
            "models/gemini-1.5-flash-8b-001\n",
            "models/gemini-1.5-flash-8b-latest\n",
            "models/gemini-2.5-pro-preview-03-25\n",
            "models/gemini-2.5-flash-preview-04-17\n",
            "models/gemini-2.5-flash-preview-05-20\n",
            "models/gemini-2.5-flash\n",
            "models/gemini-2.5-flash-preview-04-17-thinking\n",
            "models/gemini-2.5-flash-lite-preview-06-17\n",
            "models/gemini-2.5-pro-preview-05-06\n",
            "models/gemini-2.5-pro-preview-06-05\n",
            "models/gemini-2.5-pro\n",
            "models/gemini-2.0-flash-exp\n",
            "models/gemini-2.0-flash\n",
            "models/gemini-2.0-flash-001\n",
            "models/gemini-2.0-flash-exp-image-generation\n",
            "models/gemini-2.0-flash-lite-001\n",
            "models/gemini-2.0-flash-lite\n",
            "models/gemini-2.0-flash-preview-image-generation\n",
            "models/gemini-2.0-flash-lite-preview-02-05\n",
            "models/gemini-2.0-flash-lite-preview\n",
            "models/gemini-2.0-pro-exp\n",
            "models/gemini-2.0-pro-exp-02-05\n",
            "models/gemini-exp-1206\n",
            "models/gemini-2.0-flash-thinking-exp-01-21\n",
            "models/gemini-2.0-flash-thinking-exp\n",
            "models/gemini-2.0-flash-thinking-exp-1219\n",
            "models/gemini-2.5-flash-preview-tts\n",
            "models/gemini-2.5-pro-preview-tts\n",
            "models/learnlm-2.0-flash-experimental\n",
            "models/gemma-3-1b-it\n",
            "models/gemma-3-4b-it\n",
            "models/gemma-3-12b-it\n",
            "models/gemma-3-27b-it\n",
            "models/gemma-3n-e4b-it\n",
            "models/gemma-3n-e2b-it\n",
            "models/embedding-001\n",
            "models/text-embedding-004\n",
            "models/gemini-embedding-exp-03-07\n",
            "models/gemini-embedding-exp\n",
            "models/aqa\n",
            "models/imagen-3.0-generate-002\n",
            "models/imagen-4.0-generate-preview-06-06\n",
            "models/imagen-4.0-ultra-generate-preview-06-06\n",
            "models/veo-2.0-generate-001\n",
            "models/gemini-2.5-flash-preview-native-audio-dialog\n",
            "models/gemini-2.5-flash-exp-native-audio-thinking-dialog\n",
            "models/gemini-2.0-flash-live-001\n",
            "models/gemini-live-2.5-flash-preview\n"
          ]
        }
      ]
    },
    {
      "cell_type": "code",
      "source": [
        "from pprint import pprint\n",
        "\n",
        "for model in client.models.list():\n",
        "  if model.name == 'models/gemini-2.0-flash':\n",
        "    pprint(model.to_json_dict())\n",
        "    break"
      ],
      "metadata": {
        "colab": {
          "base_uri": "https://localhost:8080/"
        },
        "id": "VhfLK0wt4_4u",
        "outputId": "0389044e-457c-48f4-b0eb-8bf9ef2f3158"
      },
      "execution_count": 24,
      "outputs": [
        {
          "output_type": "stream",
          "name": "stdout",
          "text": [
            "{'description': 'Gemini 2.0 Flash',\n",
            " 'display_name': 'Gemini 2.0 Flash',\n",
            " 'input_token_limit': 1048576,\n",
            " 'name': 'models/gemini-2.0-flash',\n",
            " 'output_token_limit': 8192,\n",
            " 'supported_actions': ['generateContent',\n",
            "                       'countTokens',\n",
            "                       'createCachedContent',\n",
            "                       'batchGenerateContent'],\n",
            " 'tuned_model_info': {},\n",
            " 'version': '2.0'}\n"
          ]
        }
      ]
    },
    {
      "cell_type": "code",
      "source": [
        "from google.genai import types\n",
        "\n",
        "short_config = types.GenerateContentConfig(max_output_tokens=200)\n",
        "\n",
        "response = client.models.generate_content(\n",
        "    model='gemini-2.0-flash',\n",
        "    config=short_config,\n",
        "    contents='Write a 1000 word essay about the most current trends in fashion brand marketing (2024–2025).')\n",
        "\n",
        "print(response.text)"
      ],
      "metadata": {
        "colab": {
          "base_uri": "https://localhost:8080/"
        },
        "id": "HccuStzA5EyD",
        "outputId": "dee8f2b9-2980-45a3-ea8f-b5e3cf4e0b1d"
      },
      "execution_count": 27,
      "outputs": [
        {
          "output_type": "stream",
          "name": "stdout",
          "text": [
            "## Navigating the Evolving Landscape: Current Trends in Fashion Brand Marketing (2024-2025)\n",
            "\n",
            "The fashion industry, a dynamic and ever-evolving landscape, demands equally adaptable and innovative marketing strategies. As we move into 2024 and look towards 2025, fashion brands are grappling with a complex ecosystem of shifting consumer values, technological advancements, and global economic pressures. This essay will explore the most current trends shaping fashion brand marketing, highlighting how brands are leveraging these trends to connect with consumers, build brand loyalty, and ultimately drive sales in a hyper-competitive market.\n",
            "\n",
            "One of the most pervasive trends is the **rise of purpose-driven marketing and sustainability**. Consumers, especially younger generations like Gen Z and Millennials, are increasingly demanding transparency and ethical practices from the brands they support. They want to know where their clothes come from, how they are made, and what impact the production process has on the environment and the people involved. This is\n"
          ]
        }
      ]
    },
    {
      "cell_type": "code",
      "source": [
        "response = client.models.generate_content(\n",
        "    model='gemini-2.0-flash',\n",
        "    config=short_config,\n",
        "    contents='What is Narrative-Driven Positioning in marketing?')\n",
        "\n",
        "print(response.text)"
      ],
      "metadata": {
        "colab": {
          "base_uri": "https://localhost:8080/"
        },
        "id": "Wprn5uG-5KUj",
        "outputId": "e7940931-4a56-4855-e1be-1125210eb788"
      },
      "execution_count": 28,
      "outputs": [
        {
          "output_type": "stream",
          "name": "stdout",
          "text": [
            "Narrative-Driven Positioning is a marketing strategy that focuses on defining a brand's place in the market, not just by its features and benefits, but by **telling a compelling story that resonates with the target audience's values, aspirations, and understanding of the world.**\n",
            "\n",
            "Instead of simply saying \"We're the best,\" narrative-driven positioning explains *why* you're the best, by crafting a narrative that connects with your audience on an emotional level.  It's about establishing a clear and consistent story about **who you are, what you stand for, why you exist, and how you can help your customers achieve their goals.**\n",
            "\n",
            "Here's a breakdown of the key components:\n",
            "\n",
            "*   **Focus on Meaning, Not Just Features:** It moves beyond listing product attributes and instead emphasizes the *meaning* those features have for the customer. How do they improve the customer's life or help them overcome a challenge?\n",
            "*   **Emotional Connection:**  The\n"
          ]
        }
      ]
    },
    {
      "cell_type": "markdown",
      "source": [
        "## Temperature¶\n",
        "Temperature controls the degree of randomness in token selection.\n",
        "\n",
        "**Higher temperatures** result in a higher number of candidate tokens from which the next output token is selected, and can produce more diverse results, while **lower temperatures** have the opposite effect, such that a temperature of 0 results in greedy decoding, selecting the most probable token at each step.\n",
        "\n",
        "Temperature doesn't provide any guarantees of randomness, but it can be used to \"nudge\" the output somewhat."
      ],
      "metadata": {
        "id": "MORnnn-n6EZM"
      }
    },
    {
      "cell_type": "code",
      "source": [
        "high_temp_config = types.GenerateContentConfig(temperature=2.0)\n",
        "\n",
        "\n",
        "for _ in range(5):\n",
        "  response = client.models.generate_content(\n",
        "      model='gemini-2.0-flash',\n",
        "      config=high_temp_config,\n",
        "      contents='Pick a random colour... (respond in a single word)')\n",
        "\n",
        "  if response.text:\n",
        "    print(response.text, '-' * 25)"
      ],
      "metadata": {
        "colab": {
          "base_uri": "https://localhost:8080/"
        },
        "id": "e2JUaeYL5xtC",
        "outputId": "5dda4f76-0e76-4f86-b410-9d221c102fd1"
      },
      "execution_count": 32,
      "outputs": [
        {
          "output_type": "stream",
          "name": "stdout",
          "text": [
            "Turquoise\n",
            " -------------------------\n",
            "Turquoise\n",
            " -------------------------\n",
            "Azure\n",
            " -------------------------\n",
            "Orange\n",
            " -------------------------\n",
            "Turquoise\n",
            " -------------------------\n"
          ]
        }
      ]
    },
    {
      "cell_type": "code",
      "source": [
        "low_temp_config = types.GenerateContentConfig(temperature=0.0)\n",
        "\n",
        "for _ in range(5):\n",
        "  response = client.models.generate_content(\n",
        "      model='gemini-2.0-flash',\n",
        "      config=low_temp_config,\n",
        "      contents='Pick a random colour... (respond in a single word)')\n",
        "\n",
        "  if response.text:\n",
        "    print(response.text, '-' * 25)"
      ],
      "metadata": {
        "colab": {
          "base_uri": "https://localhost:8080/"
        },
        "id": "ipMIj_NE53qA",
        "outputId": "65560fcf-4cdd-4ed0-9268-e5c684103b8a"
      },
      "execution_count": 34,
      "outputs": [
        {
          "output_type": "stream",
          "name": "stdout",
          "text": [
            "Azure\n",
            " -------------------------\n",
            "Azure\n",
            " -------------------------\n",
            "Azure\n",
            " -------------------------\n",
            "Azure\n",
            " -------------------------\n",
            "Azure\n",
            " -------------------------\n"
          ]
        }
      ]
    },
    {
      "cell_type": "markdown",
      "source": [
        "## Top-P¶\n",
        "\n",
        "Like temperature, the top-P parameter is also used to control the diversity of the model's output.\n",
        "\n",
        "Top-P defines **the probability threshold** that, once cumulatively exceeded, tokens stop being selected as candidates. A top-P of 0 is typically equivalent to greedy decoding, and a top-P of 1 typically selects every token in the model's vocabulary.\n",
        "\n",
        "You may also see top-K referenced in LLM literature. Top-K is not configurable in the Gemini 2.0 series of models, but can be changed in older models. Top-K is a positive integer that defines the number of most probable tokens from which to select the output token. A top-K of 1 selects a single token, performing greedy decoding.\n",
        "\n",
        "Run this example a number of times, change the settings and observe the change in output."
      ],
      "metadata": {
        "id": "EzwNbDWQ6aEG"
      }
    },
    {
      "cell_type": "code",
      "source": [
        "model_config = types.GenerateContentConfig(\n",
        "    # These are the default values for gemini-2.0-flash.\n",
        "    temperature=1.0,\n",
        "    top_p=0.95,\n",
        ")\n",
        "\n",
        "story_prompt = \"\"\"\n",
        "You are a senior marketing strategist for a high-end luxury brand expanding across Asia, particularly in emerging markets like Vietnam, Indonesia, South Korea, and Thailand.\n",
        "Your goal is to craft region-specific positioning strategies that preserve the brand’s exclusivity, heritage, and aspirational status, while resonating with local cultural values, digital habits, and social status dynamics.\n",
        "\n",
        "Focus areas:\n",
        "Local consumer psychology and status signaling\n",
        "Platform-specific activation (e.g., WeChat, TikTok, KakaoTalk)\n",
        "Balancing global identity with regional relevance\n",
        "Maintaining brand scarcity and desirability\n",
        "Provide a detailed marketing strategy including:\n",
        "Ideal customer personas by country\n",
        "Tone of voice and brand imagery adaptations\n",
        "Key campaign ideas for launch and ongoing engagement\n",
        "Social commerce and KOL/influencer strategies\n",
        "Risks to avoid (e.g., overexposure, brand dilution)\n",
        "Respond in bullet points and then summarize with a positioning sentence for the region.\"\"\"\n",
        "\n",
        "response = client.models.generate_content(\n",
        "    model='gemini-2.0-flash',\n",
        "    config=model_config,\n",
        "    contents=story_prompt)\n",
        "\n",
        "print(response.text)"
      ],
      "metadata": {
        "colab": {
          "base_uri": "https://localhost:8080/"
        },
        "id": "hdsB4EHP6VSY",
        "outputId": "e7fa7558-122e-40d4-83f6-631168e65b5a"
      },
      "execution_count": 35,
      "outputs": [
        {
          "output_type": "stream",
          "name": "stdout",
          "text": [
            "Okay, here's a detailed marketing strategy for a luxury brand expanding across emerging Asian markets, focusing on Vietnam, Indonesia, South Korea, and Thailand.\n",
            "\n",
            "**I. Ideal Customer Personas by Country:**\n",
            "\n",
            "*   **Vietnam:**\n",
            "    *   **Persona:** \"The Rising Entrepreneur\" - Young (25-40), self-made, successful business owner or executive, digitally savvy, values progress and innovation, seeks brands that reflect their ambition and success, follows Western trends but respects Vietnamese heritage.\n",
            "    *   **Motivations:** Showcasing upward mobility, demonstrating sophistication, aligning with a brand that respects Vietnamese culture, quality, and long-term investment.\n",
            "\n",
            "*   **Indonesia:**\n",
            "    *   **Persona:** \"The Modern Aristocrat\" - Comes from a wealthy family, well-educated (often abroad), maintains traditional values but embraces modernity, active on social media, particularly Instagram, attends high-society events, desires brands that reflect status and family legacy.\n",
            "    *   **Motivations:** Maintaining social standing, expressing refined taste, supporting brands with a strong ethical foundation (e.g., sustainability, social responsibility), demonstrating appreciation for craftsmanship.\n",
            "\n",
            "*   **South Korea:**\n",
            "    *   **Persona:** \"The Trendsetting Professional\" - Image-conscious, highly educated, works in a competitive industry, influenced by Korean celebrities and influencers, values quality, exclusivity, and demonstrating sophisticated taste, active on KakaoTalk and Instagram.\n",
            "    *   **Motivations:** Gaining social validation, expressing individuality within a group, showcasing personal style, investing in products that offer long-term value and enhance their image.\n",
            "\n",
            "*   **Thailand:**\n",
            "    *   **Persona:** \"The Savvy Socialite\" - Well-connected, active on social media (especially Instagram and LINE), values aesthetics, enjoys luxury experiences, seeks brands that enhance their lifestyle, influenced by Thai celebrities and influencers, respects Thai traditions and Buddhist values.\n",
            "    *   **Motivations:** Elevating their social image, expressing personal style, demonstrating refined taste, supporting brands that align with Thai cultural values (e.g., respect, harmony, generosity).\n",
            "\n",
            "**II. Tone of Voice & Brand Imagery Adaptations:**\n",
            "\n",
            "*   **General Principles:** Maintain brand's core voice of sophistication and elegance. Adapt for local nuances.\n",
            "    *   **Vietnam:** Emphasize progress, innovation, and ambition. Use aspirational language highlighting personal growth and success. Visuals: Modern cityscapes, innovative designs, subtle nods to Vietnamese art and architecture.\n",
            "    *   **Indonesia:** Blend tradition with modernity. Highlight the brand's ethical values and commitment to sustainability. Visuals: Lush landscapes, handcrafted details, elegant designs reflecting Indonesian heritage.\n",
            "    *   **South Korea:** Focus on trendsetting design and exclusivity. Emphasize innovation and high-quality materials. Visuals: Clean, modern aesthetics, featuring Korean celebrities and influencers, showcasing luxurious details.\n",
            "    *   **Thailand:** Emphasize elegance, sophistication, and the brand's ability to enhance the Thai lifestyle. Visuals: Luxurious resorts, serene landscapes, elegant details, featuring Thai celebrities and influencers.\n",
            "*   **Language:** Translate marketing materials professionally. Consider using localized slang and idioms sparingly for a more natural tone.\n",
            "*   **Color Palettes:** Research color associations in each culture. For example, red is considered lucky in many Asian cultures but can also signify anger or danger.\n",
            "\n",
            "**III. Key Campaign Ideas for Launch & Ongoing Engagement:**\n",
            "\n",
            "*   **Launch Campaigns:**\n",
            "    *   **Vietnam:** \"Elevate Your Ascent\" - Showcase the brand's ability to empower individuals to achieve their ambitions. Partner with successful Vietnamese entrepreneurs.\n",
            "    *   **Indonesia:** \"Legacy of Elegance\" - Highlight the brand's heritage and commitment to ethical values. Collaborate with Indonesian artisans and designers.\n",
            "    *   **South Korea:** \"The Art of Expression\" - Focus on the brand's design and exclusivity, collaborating with Korean artists and designers to create limited-edition collections.\n",
            "    *   **Thailand:** \"Embrace the Extraordinary\" - Position the brand as an essential element of a luxurious Thai lifestyle. Partner with luxury hotels and resorts.\n",
            "*   **Ongoing Engagement:**\n",
            "    *   **Exclusive Events:** Host private events for VIP clients, showcasing the brand's collections and offering personalized services.\n",
            "    *   **Cultural Collaborations:** Partner with local artists and designers to create unique products and experiences that celebrate local culture.\n",
            "    *   **Storytelling:** Share stories that resonate with local values and aspirations. Feature local customers and their achievements.\n",
            "    *   **Personalized Experiences:** Offer personalized services and products tailored to individual preferences.\n",
            "\n",
            "**IV. Social Commerce & KOL/Influencer Strategies:**\n",
            "\n",
            "*   **Platform Selection:**\n",
            "    *   **Vietnam:** Facebook, Instagram, TikTok, Zalo, Shopee.\n",
            "    *   **Indonesia:** Instagram, TikTok, YouTube, Tokopedia, Shopee.\n",
            "    *   **South Korea:** KakaoTalk, Instagram, YouTube, Naver, Coupang.\n",
            "    *   **Thailand:** Instagram, LINE, Facebook, Lazada, Shopee.\n",
            "*   **KOL/Influencer Strategy:**\n",
            "    *   **Tiered Approach:** Utilize a mix of macro-influencers (celebrities) and micro-influencers (niche experts) to reach different target audiences.\n",
            "    *   **Authenticity:** Prioritize influencers who genuinely align with the brand's values and aesthetic.\n",
            "    *   **Long-Term Partnerships:** Build long-term relationships with key influencers to create authentic and engaging content.\n",
            "    *   **Localized Content:** Ensure that influencer content is tailored to the specific cultural nuances of each country.\n",
            "    *   **Social Commerce Integration:** Enable seamless shopping experiences directly within social media platforms.\n",
            "*   **Social Listening:** Continuously monitor social media conversations to identify emerging trends and sentiment towards the brand.\n",
            "\n",
            "**V. Risks to Avoid:**\n",
            "\n",
            "*   **Overexposure:** Limit distribution and maintain exclusivity through strategic partnerships and limited-edition releases.\n",
            "*   **Brand Dilution:** Ensure that all marketing activities align with the brand's core values and aesthetic.\n",
            "*   **Cultural Missteps:** Conduct thorough research and consult with local experts to avoid cultural appropriation or insensitivity.\n",
            "*   **Counterfeit Products:** Implement robust measures to protect the brand's intellectual property and combat counterfeit products.\n",
            "*   **Ignoring Local Regulations:** Ensure all marketing activities comply with local advertising and consumer protection laws.\n",
            "*   **Translation Errors:** Invest in professional translation services to avoid embarrassing or misleading errors.\n",
            "*   **Oversaturation of Influencers:** Focus on quality over quantity when selecting influencers. Ensure that their audiences align with the target demographic.\n",
            "\n",
            "**VI. Summary Positioning Sentence:**\n",
            "\n",
            "\"**For the discerning [target country name] consumer, [Brand Name] embodies timeless elegance and elevated status, seamlessly blending global luxury with local heritage to inspire a life of sophisticated achievement.**\"\n",
            "\n"
          ]
        }
      ]
    },
    {
      "cell_type": "markdown",
      "source": [
        "## Prompting¶\n",
        "This section contains some prompts from the chapter for you to try out directly in the API. Try changing the text here to see how each prompt performs with different instructions, more examples, or any other changes you can think of.\n",
        "\n",
        "### Zero-shot\n",
        "Zero-shot prompts are prompts that describe the request for the model directly."
      ],
      "metadata": {
        "id": "bGgK63047M3N"
      }
    },
    {
      "cell_type": "code",
      "source": [
        "model_config = types.GenerateContentConfig(\n",
        "    temperature=0.1,\n",
        "    top_p=1,\n",
        "    max_output_tokens=5,\n",
        ")\n",
        "\n",
        "zero_shot_prompt = \"\"\"You are a global luxury brand strategist advising on how to position a high-end fashion or lifestyle brand in Asia, with a focus on markets like South Korea, Thailand, Vietnam, and Indonesia.\n",
        "\n",
        "Without any prior examples, generate a detailed market entry and positioning strategy that aligns with:\n",
        "- The aesthetic and cultural preferences of affluent or aspirational consumers in each country\n",
        "- The luxury status signaling behaviors common in Asian markets\n",
        "- Digital platform usage and influencer ecosystems per country (e.g., TikTok, WeChat, Kakao, Shopee)\n",
        "- The brand’s core identity of exclusivity, heritage, and sophistication\n",
        "\n",
        "Return the following:\n",
        "\n",
        "- A table comparing country-specific insights\n",
        "- Suggested taglines or campaign themes per market\n",
        "- Visual and tonal adaptation notes\n",
        "- Influencer/KOL engagement strategies\n",
        "\n",
        "One-sentence positioning summary per country \"\"\"\n",
        "\n",
        "response = client.models.generate_content(\n",
        "    model='gemini-2.0-flash',\n",
        "    config=model_config,\n",
        "    contents=zero_shot_prompt)\n",
        "\n",
        "print(response.text)"
      ],
      "metadata": {
        "colab": {
          "base_uri": "https://localhost:8080/"
        },
        "id": "0J9LE1H_7HCZ",
        "outputId": "88005cd8-df1d-4070-c422-1a59959298fb"
      },
      "execution_count": 36,
      "outputs": [
        {
          "output_type": "stream",
          "name": "stdout",
          "text": [
            "Okay, here's\n"
          ]
        }
      ]
    },
    {
      "cell_type": "code",
      "source": [
        "model_config = types.GenerateContentConfig(\n",
        "    temperature=0.1,\n",
        "    top_p=1,\n",
        "    max_output_tokens=300,\n",
        ")\n",
        "\n",
        "zero_shot_prompt = \"\"\"You are an expert classifier for a luxury fashion brand operating in Asia.\n",
        "Your task is to classify customer quotes into one of three categories:\n",
        "\n",
        "Supportive – expressing admiration, desire, or positive sentiment toward the brand\n",
        "\n",
        "Neutral – observational, undecided, or ambiguous in tone\n",
        "\n",
        "Opposed – dismissive, critical, or negatively aligned with the brand\n",
        "\n",
        "For each quote below, return:\n",
        "\n",
        "label (Supportive / Neutral / Opposed)\n",
        "\n",
        "rationale (brief reasoning, 1–2 sentences)\n",
        "\n",
        "Quotes to classify:\n",
        "\n",
        "“It’s elegant, but I’m not sure it fits my lifestyle.”\n",
        "\n",
        "“Luxury should never be this loud.”\n",
        "\n",
        "“I’ve followed this brand since their Tokyo show — they never disappoint.”\n",
        "\n",
        "“Everyone’s wearing it now. Maybe I’ll consider it.”\n",
        "\n",
        "“I prefer subtle craftsmanship over logos.”\n",
        "\n",
        "\"\"\"\n",
        "\n",
        "response = client.models.generate_content(\n",
        "    model='gemini-2.0-flash',\n",
        "    config=model_config,\n",
        "    contents=zero_shot_prompt)\n",
        "\n",
        "print(response.text)"
      ],
      "metadata": {
        "colab": {
          "base_uri": "https://localhost:8080/"
        },
        "id": "0gJlpvLZ7qlz",
        "outputId": "cb9bc058-39a0-41e9-b57b-05efb48bd772"
      },
      "execution_count": 44,
      "outputs": [
        {
          "output_type": "stream",
          "name": "stdout",
          "text": [
            "Here are the classifications for the provided quotes:\n",
            "\n",
            "**Quote 1: “It’s elegant, but I’m not sure it fits my lifestyle.”**\n",
            "\n",
            "*   **label:** Neutral\n",
            "*   **rationale:** The quote acknowledges a positive aspect (\"elegant\") but expresses uncertainty about personal suitability. This indicates an undecided stance.\n",
            "\n",
            "**Quote 2: “Luxury should never be this loud.”**\n",
            "\n",
            "*   **label:** Opposed\n",
            "*   **rationale:** This is a direct criticism of the brand's perceived aesthetic, suggesting disapproval. The word \"loud\" implies a negative assessment of the brand's design choices.\n",
            "\n",
            "**Quote 3: “I’ve followed this brand since their Tokyo show — they never disappoint.”**\n",
            "\n",
            "*   **label:** Supportive\n",
            "*   **rationale:** This quote expresses long-term admiration and satisfaction with the brand. The phrase \"never disappoint\" clearly indicates a positive sentiment.\n",
            "\n",
            "**Quote 4: “Everyone’s wearing it now. Maybe I’ll consider it.”**\n",
            "\n",
            "*   **label:** Neutral\n",
            "*   **rationale:** The quote highlights the brand's popularity but expresses a conditional interest. The speaker is influenced by external factors (\"everyone's wearing it\") rather than inherent brand affinity.\n",
            "\n",
            "**Quote 5: “I prefer subtle craftsmanship over logos.”**\n",
            "\n",
            "*   **label:** Opposed\n",
            "*   **rationale:** This statement implies a preference for\n"
          ]
        }
      ]
    },
    {
      "cell_type": "markdown",
      "source": [
        "## One-shot and few-shot¶\n",
        "Providing an example of the expected response is known as a \"one-shot\" prompt. When you provide multiple examples, it is a \"few-shot\" prompt."
      ],
      "metadata": {
        "id": "IZ9-7uyj85Wg"
      }
    },
    {
      "cell_type": "code",
      "source": [
        "few_shot_prompt = \"\"\"You are a classification assistant for a luxury fashion brand expanding in Asia.\n",
        "You classify customer quotes into the following categories:\n",
        "\n",
        "\"Supportive\" — Positive, admiring, aligned with luxury values\n",
        "\n",
        "\"Neutral\" — Ambivalent, observational, undecided\n",
        "\n",
        "\"Opposed\" — Critical, dismissive, brand-averse\n",
        "\n",
        "Below is an example of how to respond in JSON format.\n",
        "\n",
        "Example Input:\n",
        "\"I’ve always loved the attention to detail. Their Shanghai collection was stunning.\"\n",
        "\n",
        "Example Output:\n",
        "\n",
        "json\n",
        "Copy\n",
        "Edit\n",
        "{\n",
        "  \"label\": \"Supportive\",\n",
        "  \"rationale\": \"The speaker expresses admiration and historical loyalty, referencing a specific collection.\"\n",
        "}\n",
        "Now classify the following quote:\n",
        "\n",
        "Input:\n",
        "\"It looks expensive, but I don’t really get the hype.\"\n",
        "\n",
        "Respond in JSON format only.\n",
        "\"\"\"\n",
        "\n",
        "customer_order = \"I adore their craftsmanship. It’s luxury in every stitch.\"\n",
        "\n",
        "response = client.models.generate_content(\n",
        "    model='gemini-2.0-flash',\n",
        "    config=types.GenerateContentConfig(\n",
        "        temperature=0.1,\n",
        "        top_p=1,\n",
        "        max_output_tokens=250,\n",
        "    ),\n",
        "    contents=[few_shot_prompt, customer_order])\n",
        "\n",
        "print(response.text)"
      ],
      "metadata": {
        "colab": {
          "base_uri": "https://localhost:8080/"
        },
        "id": "2DewoSbY7xgf",
        "outputId": "b353983e-4ef5-4c6b-d344-772dd60f03a0"
      },
      "execution_count": 46,
      "outputs": [
        {
          "output_type": "stream",
          "name": "stdout",
          "text": [
            "```json\n",
            "{\n",
            "  \"label\": \"Supportive\",\n",
            "  \"rationale\": \"The speaker expresses strong admiration for the brand's craftsmanship and associates it with luxury.\"\n",
            "}\n",
            "```\n"
          ]
        }
      ]
    },
    {
      "cell_type": "markdown",
      "source": [
        "### JSON mode¶\n",
        "To provide control over the schema, and to ensure that you only receive [JSON](https://github.com/google-gemini/cookbook/blob/main/quickstarts/JSON_mode.ipynb) , you can use the Gemini API's JSON mode. This forces the model to constrain decoding, such that token selection is guided by the supplied schema."
      ],
      "metadata": {
        "id": "r9cNN0xr9Yjk"
      }
    },
    {
      "cell_type": "markdown",
      "source": [
        "## Chain of Thought (CoT)¶\n",
        "Direct prompting on LLMs can return answers quickly and (in terms of output token usage) efficiently, but they can be prone to hallucination. The answer may \"look\" correct (in terms of language and syntax) but is incorrect in terms of factuality and reasoning.\n",
        "\n",
        "Chain-of-Thought prompting is a technique where you instruct the model to output intermediate reasoning steps, and it typically gets better results, especially when combined with few-shot examples. It is worth noting that this technique doesn't completely eliminate hallucinations, and that it tends to cost more to run, due to the increased token count.\n",
        "\n",
        "Models like the Gemini family are trained to be \"chatty\" or \"thoughtful\" and will provide reasoning steps without prompting, so for this simple example you can ask the model to be more direct in the prompt to force a non-reasoning response. Try re-running this step if the model gets lucky and gets the answer correct on the first try."
      ],
      "metadata": {
        "id": "eoj3uR7f9ycx"
      }
    },
    {
      "cell_type": "code",
      "source": [
        "prompt = \"\"\"You are a brand classification assistant working for a luxury fashion house expanding across Asia.\n",
        "You will analyze customer quotes and classify them into:\n",
        "\n",
        "\"Supportive\" — Positive, admiring, aligned with luxury values\n",
        "\n",
        "\"Neutral\" — Ambivalent or observational\n",
        "\n",
        "\"Opposed\" — Dismissive, misaligned, critical\n",
        "\n",
        "First, think step-by-step about the tone, sentiment, and intent.\n",
        "Then, return a final JSON like:\n",
        "\n",
        "json\n",
        "Copy\n",
        "Edit\n",
        "{\n",
        "  \"label\": \"Supportive\",\n",
        "  \"rationale\": \"Reasoning here...\"\n",
        "}\"\"\"\n",
        "\n",
        "response = client.models.generate_content(\n",
        "    model='gemini-2.0-flash',\n",
        "    contents=prompt)\n",
        "\n",
        "print(response.text)"
      ],
      "metadata": {
        "colab": {
          "base_uri": "https://localhost:8080/"
        },
        "id": "YkN6z7718-Pj",
        "outputId": "43aa7d18-15b1-4bee-9423-f5e61f2157d2"
      },
      "execution_count": 47,
      "outputs": [
        {
          "output_type": "stream",
          "name": "stdout",
          "text": [
            "Okay, I understand. Here's my process for analyzing customer quotes and classifying them:\n",
            "\n",
            "**Step 1: Tone Detection**\n",
            "\n",
            "*   Is the overall tone positive, negative, or neutral?\n",
            "*   Look for emotionally charged words (e.g., \"love,\" \"hate,\" \"disappointing,\" \"amazing\").\n",
            "*   Consider the use of exclamation points, emojis, and other indicators of strong emotion.\n",
            "\n",
            "**Step 2: Sentiment Analysis**\n",
            "\n",
            "*   What is the customer's feeling or attitude towards the brand, product, or service?\n",
            "*   Is the customer expressing admiration, appreciation, or satisfaction?\n",
            "*   Are they expressing criticism, disappointment, or dissatisfaction?\n",
            "*   Or are they simply making an observation without expressing a strong feeling?\n",
            "\n",
            "**Step 3: Intent Identification**\n",
            "\n",
            "*   What is the customer trying to communicate?\n",
            "*   Are they trying to praise the brand?\n",
            "*   Are they trying to offer constructive criticism?\n",
            "*   Are they simply sharing their experience?\n",
            "*   Are they trying to undermine or damage the brand's reputation?\n",
            "\n",
            "**Step 4: Alignment with Luxury Values**\n",
            "\n",
            "*   Does the quote reflect or appreciate the core values associated with luxury brands?\n",
            "*   Examples of luxury values: quality, craftsmanship, exclusivity, heritage, innovation, elegance, sophistication, customer experience.\n",
            "*   Does the quote focus on price, discounts, or accessibility in a way that undermines the brand's luxurious image?\n",
            "\n",
            "**Step 5: Classification**\n",
            "\n",
            "*   Based on the tone, sentiment, intent, and alignment with luxury values, I will classify the quote as one of the following:\n",
            "\n",
            "    *   **Supportive:** Positive, admiring, aligned with luxury values.\n",
            "    *   **Neutral:** Ambivalent or observational.\n",
            "    *   **Opposed:** Dismissive, misaligned, critical.\n",
            "\n",
            "**Step 6: Rationale**\n",
            "\n",
            "*   Provide a clear and concise explanation for the classification.\n",
            "*   Highlight the key factors that influenced the decision.\n",
            "*   Refer to specific words or phrases in the quote to support the rationale.\n",
            "\n",
            "Now I'm ready to analyze the quotes and provide JSON outputs.\n",
            "\n"
          ]
        }
      ]
    },
    {
      "cell_type": "markdown",
      "source": [
        "## ReAct: Reason and act¶\n",
        "In this example you will run a ReAct prompt directly in the Gemini API and perform the searching steps yourself. As this prompt follows a well-defined structure, there are frameworks available that wrap the prompt into easier-to-use APIs that make tool calls automatically, such as the LangChain example from the \"Prompting\" whitepaper.\n",
        "\n",
        "To try this out with the Wikipedia search engine, check out the Searching Wikipedia with ReAct cookbook example.\n",
        "\n"
      ],
      "metadata": {
        "id": "zy3D-cp9-H7A"
      }
    },
    {
      "cell_type": "code",
      "source": [
        "model_instructions = \"\"\"\n",
        "You are a brand analyst classifying consumer sentiment toward a luxury brand campaign in Asia.\n",
        "\n",
        "Solve the task using interleaving Thought, Action, and Observation steps. Thought reflects internal reasoning, Action queries helpful information, and Observation contains results from that query.\n",
        "\n",
        "Use these Action types:\n",
        "(1) <retrieve>concept</retrieve>: retrieve context or similar examples of this sentiment from a known annotated database.\n",
        "(2) <analyze>text</analyze>: analyze the current customer quote for emotional tone, brand alignment, or product references.\n",
        "(3) <finish>{\"label\": ..., \"rationale\": ...}</finish>: return a JSON with a classification label and step-by-step rationale.\n",
        "\n",
        "Classification labels are:\n",
        "- \"Supportive\" – expresses admiration, desire, or resonance with brand/campaign.\n",
        "- \"Neutral\" – observational, ambivalent, or hesitant.\n",
        "- \"Opposed\" – dismissive, misaligned, or critical.\n",
        "\n",
        "Provide all intermediate steps before the final output.\n",
        "\"\"\"\n",
        "\n",
        "example1 = \"\"\"\n",
        "Input: \"I’ve seen the ads everywhere, but it still feels too Western — doesn’t reflect us.\"\n",
        "\n",
        "Thought 1\n",
        "The user acknowledges visibility (\"seen the ads\") but expresses cultural dissonance (\"too Western\").\n",
        "\n",
        "Action 1\n",
        "<analyze>I’ve seen the ads everywhere, but it still feels too Western — doesn’t reflect us.</analyze>\n",
        "\n",
        "Observation 1\n",
        "Tone: slightly critical\n",
        "Brand alignment: misaligned with local cultural identity\n",
        "Intent: emotional distancing from campaign\n",
        "\n",
        "Thought 2\n",
        "This matches past cases labeled as \"Opposed\" due to cultural disconnect.\n",
        "\n",
        "Action 2\n",
        "<retrieve>examples of cultural misalignment in luxury branding</retrieve>\n",
        "\n",
        "Observation 2\n",
        "Examples show rejection of luxury campaigns that lack local adaptation — classified as \"Opposed\".\n",
        "\n",
        "Thought 3\n",
        "This is a clear expression of misalignment and brand rejection.\n",
        "\n",
        "Action 3\n",
        "<finish>{\"label\": \"Opposed\", \"rationale\": \"The speaker critiques the brand for being too Western and lacking local cultural connection.\"}</finish>\n",
        "\"\"\"\n",
        "\n",
        "example2 = \"\"\"Question\n",
        "What is the elevation range for the area that the eastern sector of the Colorado orogeny extends into?\n",
        "\n",
        "Thought 1\n",
        "I need to search Colorado orogeny, find the area that the eastern sector of the Colorado orogeny extends into, then find the elevation range of the area.\n",
        "\n",
        "Action 1\n",
        "<search>Colorado orogeny</search>\n",
        "\n",
        "Observation 1\n",
        "The Colorado orogeny was an episode of mountain building (an orogeny) in Colorado and surrounding areas.\n",
        "\n",
        "Thought 2\n",
        "It does not mention the eastern sector. So I need to look up eastern sector.\n",
        "\n",
        "Action 2\n",
        "<lookup>eastern sector</lookup>\n",
        "\n",
        "Observation 2\n",
        "The eastern sector extends into the High Plains and is called the Central Plains orogeny.\n",
        "\n",
        "Thought 3\n",
        "The eastern sector of Colorado orogeny extends into the High Plains. So I need to search High Plains and find its elevation range.\n",
        "\n",
        "Action 3\n",
        "<search>High Plains</search>\n",
        "\n",
        "Observation 3\n",
        "High Plains refers to one of two distinct land regions\n",
        "\n",
        "Thought 4\n",
        "I need to instead search High Plains (United States).\n",
        "\n",
        "Action 4\n",
        "<search>High Plains (United States)</search>\n",
        "\n",
        "Observation 4\n",
        "The High Plains are a subregion of the Great Plains. From east to west, the High Plains rise in elevation from around 1,800 to 7,000 ft (550 to 2,130m).\n",
        "\n",
        "Thought 5\n",
        "High Plains rise in elevation from around 1,800 to 7,000 ft, so the answer is 1,800 to 7,000 ft.\n",
        "\n",
        "Action 5\n",
        "<finish>1,800 to 7,000 ft</finish>\n",
        "\"\"\""
      ],
      "metadata": {
        "id": "KjMR-a-p991a"
      },
      "execution_count": 50,
      "outputs": []
    },
    {
      "cell_type": "markdown",
      "source": [
        "To capture a single step at a time, while ignoring any hallucinated Observation steps, you will use stop_sequences to end the generation process. The steps are Thought, Action, Observation, in that order."
      ],
      "metadata": {
        "id": "oVHJvAvr-z79"
      }
    },
    {
      "cell_type": "code",
      "source": [
        "question = \"\"\"Input\n",
        "\"I’ve seen the ads everywhere, but it still feels too Western — doesn’t reflect us.\"\n",
        "\"\"\""
      ],
      "metadata": {
        "id": "XPEondmi-Q0D"
      },
      "execution_count": 51,
      "outputs": []
    },
    {
      "cell_type": "code",
      "source": [
        "# You will perform the Action; so generate up to, but not including, the Observation.\n",
        "react_config = types.GenerateContentConfig(\n",
        "    stop_sequences=[\"\\nObservation\"],\n",
        "    system_instruction=model_instructions + example1 + example2,\n",
        ")\n",
        "\n",
        "# Create a chat that has the model instructions and examples pre-seeded.\n",
        "react_chat = client.chats.create(\n",
        "    model='gemini-2.0-flash',\n",
        "    config=react_config,\n",
        ")\n",
        "\n",
        "resp = react_chat.send_message(question)\n",
        "print(resp.text)"
      ],
      "metadata": {
        "colab": {
          "base_uri": "https://localhost:8080/"
        },
        "id": "7kC6Y23j-rFh",
        "outputId": "5b223ab7-1935-48de-9f86-b7c9d269a26c"
      },
      "execution_count": 52,
      "outputs": [
        {
          "output_type": "stream",
          "name": "stdout",
          "text": [
            "```json\n",
            "{\n",
            "\"label\": \"Opposed\",\n",
            "\"rationale\": \"The comment indicates that the advertising campaign feels too Western and doesn't reflect the target demographic, expressing a cultural disconnect and negative sentiment towards the campaign.\"\n",
            "}\n",
            "```\n"
          ]
        }
      ]
    },
    {
      "cell_type": "markdown",
      "source": [
        "## Thinking mode¶\n",
        "The experiemental Gemini Flash 2.0 \"Thinking\" model has been trained to generate the \"thinking process\" the model goes through as part of its response. As a result, the Flash Thinking model is capable of stronger reasoning capabilities in its responses.\n",
        "\n",
        "Using a \"thinking mode\" model can provide you with high-quality responses without needing specialised prompting like the previous approaches. One reason this technique is effective is that you induce the model to generate relevant information (\"brainstorming\", or \"thoughts\") that is then used as part of the context in which the final response is generated."
      ],
      "metadata": {
        "id": "4Wjr1RKD-_PB"
      }
    },
    {
      "cell_type": "code",
      "source": [
        "import io\n",
        "from IPython.display import Markdown, clear_output\n",
        "\n",
        "\n",
        "response = client.models.generate_content_stream(\n",
        "    model='gemini-2.0-flash-thinking-exp',\n",
        "    contents='Who was the youngest author listed on the transformers NLP paper?',\n",
        ")\n",
        "\n",
        "buf = io.StringIO()\n",
        "for chunk in response:\n",
        "    buf.write(chunk.text)\n",
        "    # Display the response as it is streamed\n",
        "    print(chunk.text, end='')\n",
        "\n",
        "# And then render the finished response as formatted markdown.\n",
        "clear_output()\n",
        "Markdown(buf.getvalue())"
      ],
      "metadata": {
        "colab": {
          "base_uri": "https://localhost:8080/",
          "height": 145
        },
        "id": "LTIhRbYv-uzn",
        "outputId": "bf26b602-23cc-4740-ab71-f573b37b47ad"
      },
      "execution_count": 53,
      "outputs": [
        {
          "output_type": "execute_result",
          "data": {
            "text/plain": [
              "<IPython.core.display.Markdown object>"
            ],
            "text/markdown": "Determining the exact age of every author of the \"Attention Is All You Need\" paper (the seminal transformers paper published in 2017) at the time of publication is difficult, as birth dates are not typically public information for researchers.\n\nHowever, based on available information and reports surrounding the paper's authors, **Aidan N. Gomez** is widely believed to have been the youngest author.\n\nAt the time the paper was written (while he was an intern at Google Brain), he was a Master's student at the University of Toronto. Many articles and discussions about the paper highlight his relative youth compared to his more senior co-authors. While an exact age isn't usually stated publicly, he was a student whereas many of the others were established researchers."
          },
          "metadata": {},
          "execution_count": 53
        }
      ]
    },
    {
      "cell_type": "markdown",
      "source": [
        "Another example"
      ],
      "metadata": {
        "id": "6rTlFTWy_PCI"
      }
    },
    {
      "cell_type": "code",
      "source": [
        "contents = \"\"\"\n",
        "Input: \"I like the colors, but the styling feels outdated for Asia.\"\n",
        "\n",
        "You are a brand strategist classifying this statement for a luxury fashion label.\n",
        "\n",
        "Use Chain-of-Thought reasoning to analyze tone, cultural alignment, and commercial sentiment.\n",
        "Return final output as JSON:\n",
        "\n",
        "{\n",
        "  \"label\": \"Supportive\" | \"Neutral\" | \"Opposed\",\n",
        "  \"rationale\": \"...\"\n",
        "}\n",
        "\"\"\""
      ],
      "metadata": {
        "id": "MTZj8l3P_FP7"
      },
      "execution_count": null,
      "outputs": []
    },
    {
      "cell_type": "code",
      "source": [
        "import io\n",
        "from IPython.display import Markdown, clear_output\n",
        "\n",
        "# Updated input aligned with your domain\n",
        "contents = \"\"\"\n",
        "Input: \"I like the colors, but the styling feels outdated for Asia.\"\n",
        "\n",
        "You are a brand strategist classifying this statement for a luxury fashion label.\n",
        "\n",
        "Use Chain-of-Thought reasoning to analyze:\n",
        "- Emotional tone\n",
        "- Cultural resonance\n",
        "- Visual or product reference\n",
        "- Implied brand alignment\n",
        "\n",
        "Output format:\n",
        "{\n",
        "  \"label\": \"Supportive\" | \"Neutral\" | \"Opposed\",\n",
        "  \"rationale\": \"...\"\n",
        "}\n",
        "\"\"\"\n",
        "\n",
        "response = client.models.generate_content_stream(\n",
        "    model='gemini-2.0-flash-thinking-exp',\n",
        "    contents=contents,\n",
        ")\n",
        "\n",
        "buf = io.StringIO()\n",
        "for chunk in response:\n",
        "    buf.write(chunk.text)\n",
        "    print(chunk.text, end='')  # Streamed preview output\n",
        "\n",
        "# Final formatted markdown render\n",
        "clear_output()\n",
        "Markdown(buf.getvalue())\n"
      ],
      "metadata": {
        "colab": {
          "base_uri": "https://localhost:8080/",
          "height": 106
        },
        "id": "H23ohy3N_eXu",
        "outputId": "c2c07548-78ac-4852-c116-95d7fba70789"
      },
      "execution_count": 54,
      "outputs": [
        {
          "output_type": "execute_result",
          "data": {
            "text/plain": [
              "<IPython.core.display.Markdown object>"
            ],
            "text/markdown": "```json\n{\n  \"label\": \"Opposed\",\n  \"rationale\": \"The feedback contains a mixed tone, acknowledging a positive (colors) but immediately following with a significant negative critique ('styling feels outdated'). The explicit mention of 'for Asia' ties the critique to a specific cultural and geographical context, indicating a perceived lack of cultural resonance or modernity in a key market for the styling element. While not outright rejecting the brand, the strong negative point about styling being 'outdated' in a strategic region represents opposition to the current product direction's relevance in that market. The feedback implies the styling does not align with contemporary expectations or trends in Asia, which is critical information for a luxury brand aiming for global relevance. The core message is a negative assessment of a key product attribute (styling) within a specific market context, outweighing the initial positive comment and categorizing it as feedback that opposes the current design strategy's effectiveness in that region.\"\n}\n```"
          },
          "metadata": {},
          "execution_count": 54
        }
      ]
    },
    {
      "cell_type": "markdown",
      "source": [
        "## Code prompting¶\n",
        "Generating code\n",
        "The Gemini family of models can be used to generate code, configuration and scripts. Generating code can be helpful when learning to code, learning a new language or for rapidly generating a first draft."
      ],
      "metadata": {
        "id": "8sV_y4PH_Wi7"
      }
    },
    {
      "cell_type": "code",
      "source": [
        "### Strategic NLP Task (No Explanation, Code Only)"
      ],
      "metadata": {
        "id": "rW3CKU_t_0uA"
      },
      "execution_count": 55,
      "outputs": []
    },
    {
      "cell_type": "code",
      "source": [
        "# Gemini models love to elaborate. So if you want only the code, be clear in your prompt.\n",
        "code_prompt = \"\"\"\n",
        "Write a Python function that classifies a customer response as 'Supportive', 'Neutral', or 'Opposed'\n",
        "using cosine similarity with three anchor examples per class. Use sentence-transformers and return only the code — no explanations.\n",
        "\"\"\"\n",
        "\n",
        "response = client.models.generate_content(\n",
        "    model='gemini-2.0-flash',\n",
        "    config=types.GenerateContentConfig(\n",
        "        temperature=0.7,\n",
        "        top_p=1,\n",
        "        max_output_tokens=1024,\n",
        "    ),\n",
        "    contents=code_prompt\n",
        ")\n",
        "\n",
        "Markdown(response.text)\n"
      ],
      "metadata": {
        "colab": {
          "base_uri": "https://localhost:8080/",
          "height": 1000
        },
        "id": "KAlwWFaa_XXA",
        "outputId": "8b11eb89-3641-41c0-9651-8d722b9220f7"
      },
      "execution_count": 56,
      "outputs": [
        {
          "output_type": "execute_result",
          "data": {
            "text/plain": [
              "<IPython.core.display.Markdown object>"
            ],
            "text/markdown": "```python\nfrom sentence_transformers import SentenceTransformer\nimport numpy as np\nfrom sklearn.metrics.pairwise import cosine_similarity\n\ndef classify_customer_response(response):\n    \"\"\"\n    Classifies a customer response as 'Supportive', 'Neutral', or 'Opposed'\n    using cosine similarity with anchor examples.\n\n    Args:\n        response (str): The customer's response text.\n\n    Returns:\n        str: The classification ('Supportive', 'Neutral', or 'Opposed').\n    \"\"\"\n\n    model = SentenceTransformer('all-MiniLM-L6-v2')\n\n    supportive_examples = [\n        \"I love this product! It's exactly what I needed.\",\n        \"This is amazing, thank you so much!\",\n        \"Great service, highly recommend.\"\n    ]\n\n    neutral_examples = [\n        \"Okay, I understand.\",\n        \"Please provide more information.\",\n        \"I have a question about this.\"\n    ]\n\n    opposed_examples = [\n        \"This is terrible, I want a refund.\",\n        \"I am very disappointed with this product.\",\n        \"This is unacceptable.\"\n    ]\n\n    supportive_embeddings = model.encode(supportive_examples)\n    neutral_embeddings = model.encode(neutral_examples)\n    opposed_embeddings = model.encode(opposed_examples)\n\n    response_embedding = model.encode(response)\n\n    supportive_similarities = cosine_similarity([response_embedding], supportive_embeddings)\n    neutral_similarities = cosine_similarity([response_embedding], neutral_embeddings)\n    opposed_similarities = cosine_similarity([response_embedding], opposed_embeddings)\n\n    avg_supportive_similarity = np.mean(supportive_similarities)\n    avg_neutral_similarity = np.mean(neutral_similarities)\n    avg_opposed_similarity = np.mean(opposed_similarities)\n\n    if avg_supportive_similarity > avg_neutral_similarity and avg_supportive_similarity > avg_opposed_similarity:\n        return 'Supportive'\n    elif avg_neutral_similarity > avg_supportive_similarity and avg_neutral_similarity > avg_opposed_similarity:\n        return 'Neutral'\n    else:\n        return 'Opposed'\n\n\nif __name__ == '__main__':\n    # Example Usage\n    response1 = \"I really appreciate your help!\"\n    response2 = \"I'm not sure about this.\"\n    response3 = \"This is a complete waste of money.\"\n\n    classification1 = classify_customer_response(response1)\n    classification2 = classify_customer_response(response2)\n    classification3 = classify_customer_response(response3)\n\n    print(f\"Response: '{response1}' - Classification: {classification1}\")\n    print(f\"Response: '{response2}' - Classification: {classification2}\")\n    print(f\"Response: '{response3}' - Classification: {classification3}\")\n```\n"
          },
          "metadata": {},
          "execution_count": 56
        }
      ]
    },
    {
      "cell_type": "code",
      "source": [],
      "metadata": {
        "id": "vn-WsHMB_4aL"
      },
      "execution_count": null,
      "outputs": []
    }
  ]
}